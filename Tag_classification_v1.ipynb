{
 "cells": [
  {
   "cell_type": "code",
   "execution_count": 1,
   "id": "4f36756e",
   "metadata": {
    "_cell_guid": "b1076dfc-b9ad-4769-8c92-a6c4dae69d19",
    "_uuid": "8f2839f25d086af736a60e9eeb907d3b93b6e0e5",
    "execution": {
     "iopub.execute_input": "2024-06-16T13:56:51.891040Z",
     "iopub.status.busy": "2024-06-16T13:56:51.890603Z",
     "iopub.status.idle": "2024-06-16T13:56:52.829722Z",
     "shell.execute_reply": "2024-06-16T13:56:52.828226Z"
    },
    "papermill": {
     "duration": 0.955154,
     "end_time": "2024-06-16T13:56:52.832947",
     "exception": false,
     "start_time": "2024-06-16T13:56:51.877793",
     "status": "completed"
    },
    "tags": []
   },
   "outputs": [
    {
     "name": "stdout",
     "output_type": "stream",
     "text": [
      "/kaggle/input/multilabel-classification-dataset/sample_submission.csv\n",
      "/kaggle/input/multilabel-classification-dataset/train.csv\n",
      "/kaggle/input/multilabel-classification-dataset/test.csv\n"
     ]
    }
   ],
   "source": [
    "# This Python 3 environment comes with many helpful analytics libraries installed\n",
    "# It is defined by the kaggle/python Docker image: https://github.com/kaggle/docker-python\n",
    "# For example, here's several helpful packages to load\n",
    "\n",
    "import numpy as np # linear algebra\n",
    "import pandas as pd # data processing, CSV file I/O (e.g. pd.read_csv)\n",
    "\n",
    "# Input data files are available in the read-only \"../input/\" directory\n",
    "# For example, running this (by clicking run or pressing Shift+Enter) will list all files under the input directory\n",
    "\n",
    "import os\n",
    "for dirname, _, filenames in os.walk('/kaggle/input'):\n",
    "    for filename in filenames:\n",
    "        print(os.path.join(dirname, filename))\n",
    "\n",
    "# You can write up to 20GB to the current directory (/kaggle/working/) that gets preserved as output when you create a version using \"Save & Run All\" \n",
    "# You can also write temporary files to /kaggle/temp/, but they won't be saved outside of the current session"
   ]
  },
  {
   "cell_type": "code",
   "execution_count": 2,
   "id": "edb7987b",
   "metadata": {
    "execution": {
     "iopub.execute_input": "2024-06-16T13:56:52.853718Z",
     "iopub.status.busy": "2024-06-16T13:56:52.853171Z",
     "iopub.status.idle": "2024-06-16T13:56:53.421593Z",
     "shell.execute_reply": "2024-06-16T13:56:53.420465Z"
    },
    "papermill": {
     "duration": 0.581798,
     "end_time": "2024-06-16T13:56:53.424496",
     "exception": false,
     "start_time": "2024-06-16T13:56:52.842698",
     "status": "completed"
    },
    "tags": []
   },
   "outputs": [],
   "source": [
    "df = pd.read_csv(\"/kaggle/input/multilabel-classification-dataset/train.csv\")"
   ]
  },
  {
   "cell_type": "code",
   "execution_count": 3,
   "id": "56e40aaa",
   "metadata": {
    "execution": {
     "iopub.execute_input": "2024-06-16T13:56:53.445131Z",
     "iopub.status.busy": "2024-06-16T13:56:53.444013Z",
     "iopub.status.idle": "2024-06-16T13:56:53.450578Z",
     "shell.execute_reply": "2024-06-16T13:56:53.449435Z"
    },
    "papermill": {
     "duration": 0.0195,
     "end_time": "2024-06-16T13:56:53.453021",
     "exception": false,
     "start_time": "2024-06-16T13:56:53.433521",
     "status": "completed"
    },
    "tags": []
   },
   "outputs": [],
   "source": [
    "def preprocess_input(df):\n",
    "    \n",
    "    def tokenize():\n",
    "        pass\n",
    "    def stemming():\n",
    "        pass\n",
    "    \n",
    "    def get_id_from_text():\n",
    "        pass\n",
    "    def get_text_from_id():\n",
    "        pass\n",
    "        "
   ]
  },
  {
   "cell_type": "code",
   "execution_count": 4,
   "id": "d954fc44",
   "metadata": {
    "execution": {
     "iopub.execute_input": "2024-06-16T13:56:53.473442Z",
     "iopub.status.busy": "2024-06-16T13:56:53.473053Z",
     "iopub.status.idle": "2024-06-16T13:56:53.478651Z",
     "shell.execute_reply": "2024-06-16T13:56:53.477533Z"
    },
    "papermill": {
     "duration": 0.018999,
     "end_time": "2024-06-16T13:56:53.481314",
     "exception": false,
     "start_time": "2024-06-16T13:56:53.462315",
     "status": "completed"
    },
    "tags": []
   },
   "outputs": [],
   "source": [
    "label_tags = ['Computer Science', 'Physics', 'Mathematics','Statistics', 'Quantitative Biology', 'Quantitative Finance']\n",
    "label_tags\n",
    "input_tags = ['TITLE', 'ABSTRACT']"
   ]
  },
  {
   "cell_type": "markdown",
   "id": "92c6e162",
   "metadata": {
    "papermill": {
     "duration": 0.008865,
     "end_time": "2024-06-16T13:56:53.499274",
     "exception": false,
     "start_time": "2024-06-16T13:56:53.490409",
     "status": "completed"
    },
    "tags": []
   },
   "source": [
    "**Data Preprocessing**"
   ]
  },
  {
   "cell_type": "code",
   "execution_count": 5,
   "id": "56b0b80a",
   "metadata": {
    "execution": {
     "iopub.execute_input": "2024-06-16T13:56:53.519324Z",
     "iopub.status.busy": "2024-06-16T13:56:53.518912Z",
     "iopub.status.idle": "2024-06-16T13:57:10.915919Z",
     "shell.execute_reply": "2024-06-16T13:57:10.914662Z"
    },
    "papermill": {
     "duration": 17.410764,
     "end_time": "2024-06-16T13:57:10.919022",
     "exception": false,
     "start_time": "2024-06-16T13:56:53.508258",
     "status": "completed"
    },
    "tags": []
   },
   "outputs": [
    {
     "name": "stderr",
     "output_type": "stream",
     "text": [
      "2024-06-16 13:56:55.837481: E external/local_xla/xla/stream_executor/cuda/cuda_dnn.cc:9261] Unable to register cuDNN factory: Attempting to register factory for plugin cuDNN when one has already been registered\n",
      "2024-06-16 13:56:55.837613: E external/local_xla/xla/stream_executor/cuda/cuda_fft.cc:607] Unable to register cuFFT factory: Attempting to register factory for plugin cuFFT when one has already been registered\n",
      "2024-06-16 13:56:56.009524: E external/local_xla/xla/stream_executor/cuda/cuda_blas.cc:1515] Unable to register cuBLAS factory: Attempting to register factory for plugin cuBLAS when one has already been registered\n"
     ]
    }
   ],
   "source": [
    "import tensorflow as tf\n",
    "import tensorflow_text as tf_text\n",
    "from sklearn.model_selection import train_test_split"
   ]
  },
  {
   "cell_type": "code",
   "execution_count": 6,
   "id": "e9868283",
   "metadata": {
    "execution": {
     "iopub.execute_input": "2024-06-16T13:57:10.940957Z",
     "iopub.status.busy": "2024-06-16T13:57:10.940242Z",
     "iopub.status.idle": "2024-06-16T13:57:10.953411Z",
     "shell.execute_reply": "2024-06-16T13:57:10.952107Z"
    },
    "papermill": {
     "duration": 0.027515,
     "end_time": "2024-06-16T13:57:10.956103",
     "exception": false,
     "start_time": "2024-06-16T13:57:10.928588",
     "status": "completed"
    },
    "tags": []
   },
   "outputs": [],
   "source": [
    "from tensorflow.keras.layers import TextVectorization\n",
    "import re\n",
    "import string\n",
    "# Create a custom standardization function to strip HTML break tags '<br />'.\n",
    "def custom_standardization(input_data):\n",
    "  lowercase = tf.strings.lower(input_data)\n",
    "  stripped_html = tf.strings.regex_replace(lowercase, '<br />', ' ')\n",
    "  return tf.strings.regex_replace(stripped_html,\n",
    "                                  '[%s]' % re.escape(string.punctuation), '')\n",
    "\n",
    "\n",
    "# Vocabulary size and number of words in a sequence.\n",
    "\n",
    "def get_vectorize_layer(vocab_size=10000, sequence_length=100):\n",
    "    vectorize_layer = TextVectorization(\n",
    "        standardize=custom_standardization,\n",
    "        max_tokens=vocab_size,\n",
    "        output_mode='int',\n",
    "        output_sequence_length=sequence_length)\n",
    "    return vectorize_layer\n",
    "\n",
    "def get_text_from_tokens(tensor, vocab):\n",
    "    text = \"\"\n",
    "    for i in tensor.numpy():\n",
    "        if vocab[i]:\n",
    "            text =text +  f\" {vocab[i]}\"\n",
    "\n",
    "    return text\n",
    "        \n",
    "    "
   ]
  },
  {
   "cell_type": "code",
   "execution_count": 7,
   "id": "7a60b567",
   "metadata": {
    "execution": {
     "iopub.execute_input": "2024-06-16T13:57:10.976810Z",
     "iopub.status.busy": "2024-06-16T13:57:10.976416Z",
     "iopub.status.idle": "2024-06-16T13:57:10.988169Z",
     "shell.execute_reply": "2024-06-16T13:57:10.986839Z"
    },
    "papermill": {
     "duration": 0.025313,
     "end_time": "2024-06-16T13:57:10.990964",
     "exception": false,
     "start_time": "2024-06-16T13:57:10.965651",
     "status": "completed"
    },
    "tags": []
   },
   "outputs": [],
   "source": [
    "def get_labels(df, tags):\n",
    "    labels = []\n",
    "    for i, row in df.iterrows():\n",
    "        encode = [row[j] for j in tags]\n",
    "        labels.append(encode)\n",
    "    return labels\n",
    "\n",
    "def get_train_val_input_data(df, label_cols):\n",
    "    train_data, valid_data = train_test_split(df, train_size=0.8, shuffle=True)\n",
    "    train_title_data = list(train_data['TITLE'])\n",
    "    train_abstract_data = list(train_data['ABSTRACT'])\n",
    "    valid_title_data = list(valid_data['TITLE'])\n",
    "    valid_abstract_data = list(valid_data['ABSTRACT'])\n",
    "    train_labels = get_labels(train_data, label_cols)\n",
    "    valid_labels = get_labels(valid_data, label_cols)\n",
    "    input_data = {\n",
    "        'train_data' : (train_title_data, train_abstract_data),\n",
    "        'train_label' : train_labels,\n",
    "        'valid_data' : (valid_title_data, valid_abstract_data),\n",
    "        'valid_label': valid_labels\n",
    "    }\n",
    "    return input_data"
   ]
  },
  {
   "cell_type": "code",
   "execution_count": 8,
   "id": "466c7387",
   "metadata": {
    "execution": {
     "iopub.execute_input": "2024-06-16T13:57:11.011719Z",
     "iopub.status.busy": "2024-06-16T13:57:11.011284Z",
     "iopub.status.idle": "2024-06-16T13:57:11.018257Z",
     "shell.execute_reply": "2024-06-16T13:57:11.017108Z"
    },
    "papermill": {
     "duration": 0.020395,
     "end_time": "2024-06-16T13:57:11.020985",
     "exception": false,
     "start_time": "2024-06-16T13:57:11.000590",
     "status": "completed"
    },
    "tags": []
   },
   "outputs": [],
   "source": [
    "def get_dataset(input_data, labels, title_vectorize_layer, abstract_vectorize_layer, batch_size=32):\n",
    "    dataset = tf.data.Dataset.from_tensor_slices((input_data, labels)).map(lambda x,y : ((title_vectorize_layer(x[0]), abstract_vectorize_layer(x[1])), y)).batch(batch_size)\n",
    "    return dataset"
   ]
  },
  {
   "cell_type": "code",
   "execution_count": 9,
   "id": "fce014bf",
   "metadata": {
    "execution": {
     "iopub.execute_input": "2024-06-16T13:57:11.041716Z",
     "iopub.status.busy": "2024-06-16T13:57:11.041260Z",
     "iopub.status.idle": "2024-06-16T13:57:11.099551Z",
     "shell.execute_reply": "2024-06-16T13:57:11.098282Z"
    },
    "papermill": {
     "duration": 0.072005,
     "end_time": "2024-06-16T13:57:11.102533",
     "exception": false,
     "start_time": "2024-06-16T13:57:11.030528",
     "status": "completed"
    },
    "tags": []
   },
   "outputs": [],
   "source": [
    "title_vectorize_layer = get_vectorize_layer(50000)\n",
    "abstract_vectorize_layer = get_vectorize_layer(50000 ,sequence_length=200)"
   ]
  },
  {
   "cell_type": "code",
   "execution_count": 10,
   "id": "3c03d907",
   "metadata": {
    "execution": {
     "iopub.execute_input": "2024-06-16T13:57:11.123872Z",
     "iopub.status.busy": "2024-06-16T13:57:11.123448Z",
     "iopub.status.idle": "2024-06-16T13:57:11.387999Z",
     "shell.execute_reply": "2024-06-16T13:57:11.386731Z"
    },
    "papermill": {
     "duration": 0.27831,
     "end_time": "2024-06-16T13:57:11.390973",
     "exception": false,
     "start_time": "2024-06-16T13:57:11.112663",
     "status": "completed"
    },
    "tags": []
   },
   "outputs": [],
   "source": [
    "title_vectorize_layer.adapt(list(df['TITLE']))"
   ]
  },
  {
   "cell_type": "code",
   "execution_count": 11,
   "id": "d3bfa4c9",
   "metadata": {
    "execution": {
     "iopub.execute_input": "2024-06-16T13:57:11.412115Z",
     "iopub.status.busy": "2024-06-16T13:57:11.411692Z",
     "iopub.status.idle": "2024-06-16T13:57:13.008472Z",
     "shell.execute_reply": "2024-06-16T13:57:13.007444Z"
    },
    "papermill": {
     "duration": 1.610645,
     "end_time": "2024-06-16T13:57:13.011291",
     "exception": false,
     "start_time": "2024-06-16T13:57:11.400646",
     "status": "completed"
    },
    "tags": []
   },
   "outputs": [],
   "source": [
    "abstract_vectorize_layer.adapt(list(df['ABSTRACT']))"
   ]
  },
  {
   "cell_type": "code",
   "execution_count": 12,
   "id": "8981d8eb",
   "metadata": {
    "execution": {
     "iopub.execute_input": "2024-06-16T13:57:13.032960Z",
     "iopub.status.busy": "2024-06-16T13:57:13.032533Z",
     "iopub.status.idle": "2024-06-16T13:57:13.078728Z",
     "shell.execute_reply": "2024-06-16T13:57:13.077517Z"
    },
    "papermill": {
     "duration": 0.059733,
     "end_time": "2024-06-16T13:57:13.081176",
     "exception": false,
     "start_time": "2024-06-16T13:57:13.021443",
     "status": "completed"
    },
    "tags": []
   },
   "outputs": [
    {
     "data": {
      "text/plain": [
       "<tf.Tensor: shape=(100,), dtype=int64, numpy=\n",
       "array([   17, 10177,   471,    20,     5,    61,   895,   179,    11,\n",
       "           0,     0,     0,     0,     0,     0,     0,     0,     0,\n",
       "           0,     0,     0,     0,     0,     0,     0,     0,     0,\n",
       "           0,     0,     0,     0,     0,     0,     0,     0,     0,\n",
       "           0,     0,     0,     0,     0,     0,     0,     0,     0,\n",
       "           0,     0,     0,     0,     0,     0,     0,     0,     0,\n",
       "           0,     0,     0,     0,     0,     0,     0,     0,     0,\n",
       "           0,     0,     0,     0,     0,     0,     0,     0,     0,\n",
       "           0,     0,     0,     0,     0,     0,     0,     0,     0,\n",
       "           0,     0,     0,     0,     0,     0,     0,     0,     0,\n",
       "           0,     0,     0,     0,     0,     0,     0,     0,     0,\n",
       "           0])>"
      ]
     },
     "execution_count": 12,
     "metadata": {},
     "output_type": "execute_result"
    }
   ],
   "source": [
    "#check sample representation : \n",
    "title_vectorize_layer(df['TITLE'][400])"
   ]
  },
  {
   "cell_type": "code",
   "execution_count": 13,
   "id": "b06b87d8",
   "metadata": {
    "execution": {
     "iopub.execute_input": "2024-06-16T13:57:13.103080Z",
     "iopub.status.busy": "2024-06-16T13:57:13.102548Z",
     "iopub.status.idle": "2024-06-16T13:57:15.036518Z",
     "shell.execute_reply": "2024-06-16T13:57:15.035246Z"
    },
    "papermill": {
     "duration": 1.948076,
     "end_time": "2024-06-16T13:57:15.039382",
     "exception": false,
     "start_time": "2024-06-16T13:57:13.091306",
     "status": "completed"
    },
    "tags": []
   },
   "outputs": [],
   "source": [
    "input_data = get_train_val_input_data(df, label_tags)"
   ]
  },
  {
   "cell_type": "code",
   "execution_count": 14,
   "id": "7c652fdc",
   "metadata": {
    "execution": {
     "iopub.execute_input": "2024-06-16T13:57:15.061483Z",
     "iopub.status.busy": "2024-06-16T13:57:15.061007Z",
     "iopub.status.idle": "2024-06-16T13:57:16.096737Z",
     "shell.execute_reply": "2024-06-16T13:57:16.095435Z"
    },
    "papermill": {
     "duration": 1.050186,
     "end_time": "2024-06-16T13:57:16.099612",
     "exception": false,
     "start_time": "2024-06-16T13:57:15.049426",
     "status": "completed"
    },
    "tags": []
   },
   "outputs": [],
   "source": [
    "train_data = get_dataset(input_data['train_data'], input_data['train_label'], title_vectorize_layer, abstract_vectorize_layer, 64)"
   ]
  },
  {
   "cell_type": "code",
   "execution_count": 15,
   "id": "f7d3f319",
   "metadata": {
    "execution": {
     "iopub.execute_input": "2024-06-16T13:57:16.122393Z",
     "iopub.status.busy": "2024-06-16T13:57:16.121886Z",
     "iopub.status.idle": "2024-06-16T13:57:16.503441Z",
     "shell.execute_reply": "2024-06-16T13:57:16.501771Z"
    },
    "papermill": {
     "duration": 0.396472,
     "end_time": "2024-06-16T13:57:16.506548",
     "exception": false,
     "start_time": "2024-06-16T13:57:16.110076",
     "status": "completed"
    },
    "tags": []
   },
   "outputs": [],
   "source": [
    "valid_data = get_dataset(input_data['valid_data'], input_data['valid_label'], title_vectorize_layer, abstract_vectorize_layer, 64)"
   ]
  },
  {
   "cell_type": "code",
   "execution_count": null,
   "id": "ac60fe3c",
   "metadata": {
    "papermill": {
     "duration": 0.009646,
     "end_time": "2024-06-16T13:57:16.526389",
     "exception": false,
     "start_time": "2024-06-16T13:57:16.516743",
     "status": "completed"
    },
    "tags": []
   },
   "outputs": [],
   "source": []
  },
  {
   "cell_type": "code",
   "execution_count": 16,
   "id": "ecf7675b",
   "metadata": {
    "execution": {
     "iopub.execute_input": "2024-06-16T13:57:16.548110Z",
     "iopub.status.busy": "2024-06-16T13:57:16.547672Z",
     "iopub.status.idle": "2024-06-16T13:57:16.560057Z",
     "shell.execute_reply": "2024-06-16T13:57:16.558806Z"
    },
    "papermill": {
     "duration": 0.026579,
     "end_time": "2024-06-16T13:57:16.562782",
     "exception": false,
     "start_time": "2024-06-16T13:57:16.536203",
     "status": "completed"
    },
    "tags": []
   },
   "outputs": [],
   "source": [
    "def get_model():\n",
    "    input1, input2= tf.keras.layers.Input(shape=(100, ), name='title_input'), tf.keras.layers.Input(shape=(200, ), name='abstract_input')\n",
    "#     inputs = tf.keras.layers.Concatenate(axis=-1, name='concatenate_layer')([input1, input2])\n",
    "    title_embs = tf.keras.layers.Embedding(50000, 64, name='title_embedding_layer')(input1)\n",
    "    abstract_embs = tf.keras.layers.Embedding(50000, 64, name='abstract_embedding_layer')(input2)\n",
    "#     out = tf.keras.layers.GlobalAveragePooling1D()(embs)\n",
    "    title_lstm = tf.keras.layers.LSTM(6, return_sequences=False, return_state=False)\n",
    "    abstract_lstm = tf.keras.layers.LSTM(6, return_sequences=False, return_state=False)\n",
    "    title_whole_seq_output = title_lstm(title_embs)\n",
    "    abstract_whole_seq_output = abstract_lstm(abstract_embs)\n",
    "    merge_layer = tf.keras.layers.Add()([title_whole_seq_output, abstract_whole_seq_output])\n",
    "    outs = tf.keras.layers.Dense(6, activation='sigmoid')(merge_layer)\n",
    "    \n",
    "    return tf.keras.Model((input1, input2), outs)\n",
    "    \n",
    "def predict(model, title, abstract):\n",
    "    title = title_vectorize_layer(title)\n",
    "#     title = tf.expand_dims(title, 0)\n",
    "    \n",
    "    abstract = abstract_vectorize_layer(abstract)\n",
    "#     abstract = tf.expand_dims(abstract, 0)\n",
    "    print(title.get_shape(), abstract.get_shape())\n",
    "    resp = model.predict((title, abstract))\n",
    "    return resp\n"
   ]
  },
  {
   "cell_type": "code",
   "execution_count": 17,
   "id": "36ec952d",
   "metadata": {
    "execution": {
     "iopub.execute_input": "2024-06-16T13:57:16.591447Z",
     "iopub.status.busy": "2024-06-16T13:57:16.590269Z",
     "iopub.status.idle": "2024-06-16T13:57:16.728297Z",
     "shell.execute_reply": "2024-06-16T13:57:16.727195Z"
    },
    "papermill": {
     "duration": 0.153787,
     "end_time": "2024-06-16T13:57:16.731276",
     "exception": false,
     "start_time": "2024-06-16T13:57:16.577489",
     "status": "completed"
    },
    "tags": []
   },
   "outputs": [],
   "source": [
    "model = get_model()"
   ]
  },
  {
   "cell_type": "code",
   "execution_count": 18,
   "id": "8139a3a9",
   "metadata": {
    "execution": {
     "iopub.execute_input": "2024-06-16T13:57:16.754495Z",
     "iopub.status.busy": "2024-06-16T13:57:16.754033Z",
     "iopub.status.idle": "2024-06-16T13:57:16.769778Z",
     "shell.execute_reply": "2024-06-16T13:57:16.768584Z"
    },
    "papermill": {
     "duration": 0.030911,
     "end_time": "2024-06-16T13:57:16.772670",
     "exception": false,
     "start_time": "2024-06-16T13:57:16.741759",
     "status": "completed"
    },
    "tags": []
   },
   "outputs": [],
   "source": [
    "model.compile(optimizer='adam', loss='binary_crossentropy', metrics=['accuracy'])"
   ]
  },
  {
   "cell_type": "code",
   "execution_count": 19,
   "id": "0c6c1388",
   "metadata": {
    "execution": {
     "iopub.execute_input": "2024-06-16T13:57:16.794930Z",
     "iopub.status.busy": "2024-06-16T13:57:16.794482Z",
     "iopub.status.idle": "2024-06-16T13:57:16.825556Z",
     "shell.execute_reply": "2024-06-16T13:57:16.824263Z"
    },
    "papermill": {
     "duration": 0.04519,
     "end_time": "2024-06-16T13:57:16.828082",
     "exception": false,
     "start_time": "2024-06-16T13:57:16.782892",
     "status": "completed"
    },
    "tags": []
   },
   "outputs": [
    {
     "data": {
      "text/html": [
       "<pre style=\"white-space:pre;overflow-x:auto;line-height:normal;font-family:Menlo,'DejaVu Sans Mono',consolas,'Courier New',monospace\"><span style=\"font-weight: bold\">Model: \"functional_1\"</span>\n",
       "</pre>\n"
      ],
      "text/plain": [
       "\u001b[1mModel: \"functional_1\"\u001b[0m\n"
      ]
     },
     "metadata": {},
     "output_type": "display_data"
    },
    {
     "data": {
      "text/html": [
       "<pre style=\"white-space:pre;overflow-x:auto;line-height:normal;font-family:Menlo,'DejaVu Sans Mono',consolas,'Courier New',monospace\">┏━━━━━━━━━━━━━━━━━━━━━┳━━━━━━━━━━━━━━━━━━━┳━━━━━━━━━━━━┳━━━━━━━━━━━━━━━━━━━┓\n",
       "┃<span style=\"font-weight: bold\"> Layer (type)        </span>┃<span style=\"font-weight: bold\"> Output Shape      </span>┃<span style=\"font-weight: bold\">    Param # </span>┃<span style=\"font-weight: bold\"> Connected to      </span>┃\n",
       "┡━━━━━━━━━━━━━━━━━━━━━╇━━━━━━━━━━━━━━━━━━━╇━━━━━━━━━━━━╇━━━━━━━━━━━━━━━━━━━┩\n",
       "│ title_input         │ (<span style=\"color: #00d7ff; text-decoration-color: #00d7ff\">None</span>, <span style=\"color: #00af00; text-decoration-color: #00af00\">100</span>)       │          <span style=\"color: #00af00; text-decoration-color: #00af00\">0</span> │ -                 │\n",
       "│ (<span style=\"color: #0087ff; text-decoration-color: #0087ff\">InputLayer</span>)        │                   │            │                   │\n",
       "├─────────────────────┼───────────────────┼────────────┼───────────────────┤\n",
       "│ abstract_input      │ (<span style=\"color: #00d7ff; text-decoration-color: #00d7ff\">None</span>, <span style=\"color: #00af00; text-decoration-color: #00af00\">200</span>)       │          <span style=\"color: #00af00; text-decoration-color: #00af00\">0</span> │ -                 │\n",
       "│ (<span style=\"color: #0087ff; text-decoration-color: #0087ff\">InputLayer</span>)        │                   │            │                   │\n",
       "├─────────────────────┼───────────────────┼────────────┼───────────────────┤\n",
       "│ title_embedding_la… │ (<span style=\"color: #00d7ff; text-decoration-color: #00d7ff\">None</span>, <span style=\"color: #00af00; text-decoration-color: #00af00\">100</span>, <span style=\"color: #00af00; text-decoration-color: #00af00\">64</span>)   │  <span style=\"color: #00af00; text-decoration-color: #00af00\">3,200,000</span> │ title_input[<span style=\"color: #00af00; text-decoration-color: #00af00\">0</span>][<span style=\"color: #00af00; text-decoration-color: #00af00\">0</span>] │\n",
       "│ (<span style=\"color: #0087ff; text-decoration-color: #0087ff\">Embedding</span>)         │                   │            │                   │\n",
       "├─────────────────────┼───────────────────┼────────────┼───────────────────┤\n",
       "│ abstract_embedding… │ (<span style=\"color: #00d7ff; text-decoration-color: #00d7ff\">None</span>, <span style=\"color: #00af00; text-decoration-color: #00af00\">200</span>, <span style=\"color: #00af00; text-decoration-color: #00af00\">64</span>)   │  <span style=\"color: #00af00; text-decoration-color: #00af00\">3,200,000</span> │ abstract_input[<span style=\"color: #00af00; text-decoration-color: #00af00\">0</span>… │\n",
       "│ (<span style=\"color: #0087ff; text-decoration-color: #0087ff\">Embedding</span>)         │                   │            │                   │\n",
       "├─────────────────────┼───────────────────┼────────────┼───────────────────┤\n",
       "│ lstm (<span style=\"color: #0087ff; text-decoration-color: #0087ff\">LSTM</span>)         │ (<span style=\"color: #00d7ff; text-decoration-color: #00d7ff\">None</span>, <span style=\"color: #00af00; text-decoration-color: #00af00\">6</span>)         │      <span style=\"color: #00af00; text-decoration-color: #00af00\">1,704</span> │ title_embedding_… │\n",
       "├─────────────────────┼───────────────────┼────────────┼───────────────────┤\n",
       "│ lstm_1 (<span style=\"color: #0087ff; text-decoration-color: #0087ff\">LSTM</span>)       │ (<span style=\"color: #00d7ff; text-decoration-color: #00d7ff\">None</span>, <span style=\"color: #00af00; text-decoration-color: #00af00\">6</span>)         │      <span style=\"color: #00af00; text-decoration-color: #00af00\">1,704</span> │ abstract_embeddi… │\n",
       "├─────────────────────┼───────────────────┼────────────┼───────────────────┤\n",
       "│ add (<span style=\"color: #0087ff; text-decoration-color: #0087ff\">Add</span>)           │ (<span style=\"color: #00d7ff; text-decoration-color: #00d7ff\">None</span>, <span style=\"color: #00af00; text-decoration-color: #00af00\">6</span>)         │          <span style=\"color: #00af00; text-decoration-color: #00af00\">0</span> │ lstm[<span style=\"color: #00af00; text-decoration-color: #00af00\">0</span>][<span style=\"color: #00af00; text-decoration-color: #00af00\">0</span>],       │\n",
       "│                     │                   │            │ lstm_1[<span style=\"color: #00af00; text-decoration-color: #00af00\">0</span>][<span style=\"color: #00af00; text-decoration-color: #00af00\">0</span>]      │\n",
       "├─────────────────────┼───────────────────┼────────────┼───────────────────┤\n",
       "│ dense (<span style=\"color: #0087ff; text-decoration-color: #0087ff\">Dense</span>)       │ (<span style=\"color: #00d7ff; text-decoration-color: #00d7ff\">None</span>, <span style=\"color: #00af00; text-decoration-color: #00af00\">6</span>)         │         <span style=\"color: #00af00; text-decoration-color: #00af00\">42</span> │ add[<span style=\"color: #00af00; text-decoration-color: #00af00\">0</span>][<span style=\"color: #00af00; text-decoration-color: #00af00\">0</span>]         │\n",
       "└─────────────────────┴───────────────────┴────────────┴───────────────────┘\n",
       "</pre>\n"
      ],
      "text/plain": [
       "┏━━━━━━━━━━━━━━━━━━━━━┳━━━━━━━━━━━━━━━━━━━┳━━━━━━━━━━━━┳━━━━━━━━━━━━━━━━━━━┓\n",
       "┃\u001b[1m \u001b[0m\u001b[1mLayer (type)       \u001b[0m\u001b[1m \u001b[0m┃\u001b[1m \u001b[0m\u001b[1mOutput Shape     \u001b[0m\u001b[1m \u001b[0m┃\u001b[1m \u001b[0m\u001b[1m   Param #\u001b[0m\u001b[1m \u001b[0m┃\u001b[1m \u001b[0m\u001b[1mConnected to     \u001b[0m\u001b[1m \u001b[0m┃\n",
       "┡━━━━━━━━━━━━━━━━━━━━━╇━━━━━━━━━━━━━━━━━━━╇━━━━━━━━━━━━╇━━━━━━━━━━━━━━━━━━━┩\n",
       "│ title_input         │ (\u001b[38;5;45mNone\u001b[0m, \u001b[38;5;34m100\u001b[0m)       │          \u001b[38;5;34m0\u001b[0m │ -                 │\n",
       "│ (\u001b[38;5;33mInputLayer\u001b[0m)        │                   │            │                   │\n",
       "├─────────────────────┼───────────────────┼────────────┼───────────────────┤\n",
       "│ abstract_input      │ (\u001b[38;5;45mNone\u001b[0m, \u001b[38;5;34m200\u001b[0m)       │          \u001b[38;5;34m0\u001b[0m │ -                 │\n",
       "│ (\u001b[38;5;33mInputLayer\u001b[0m)        │                   │            │                   │\n",
       "├─────────────────────┼───────────────────┼────────────┼───────────────────┤\n",
       "│ title_embedding_la… │ (\u001b[38;5;45mNone\u001b[0m, \u001b[38;5;34m100\u001b[0m, \u001b[38;5;34m64\u001b[0m)   │  \u001b[38;5;34m3,200,000\u001b[0m │ title_input[\u001b[38;5;34m0\u001b[0m][\u001b[38;5;34m0\u001b[0m] │\n",
       "│ (\u001b[38;5;33mEmbedding\u001b[0m)         │                   │            │                   │\n",
       "├─────────────────────┼───────────────────┼────────────┼───────────────────┤\n",
       "│ abstract_embedding… │ (\u001b[38;5;45mNone\u001b[0m, \u001b[38;5;34m200\u001b[0m, \u001b[38;5;34m64\u001b[0m)   │  \u001b[38;5;34m3,200,000\u001b[0m │ abstract_input[\u001b[38;5;34m0\u001b[0m… │\n",
       "│ (\u001b[38;5;33mEmbedding\u001b[0m)         │                   │            │                   │\n",
       "├─────────────────────┼───────────────────┼────────────┼───────────────────┤\n",
       "│ lstm (\u001b[38;5;33mLSTM\u001b[0m)         │ (\u001b[38;5;45mNone\u001b[0m, \u001b[38;5;34m6\u001b[0m)         │      \u001b[38;5;34m1,704\u001b[0m │ title_embedding_… │\n",
       "├─────────────────────┼───────────────────┼────────────┼───────────────────┤\n",
       "│ lstm_1 (\u001b[38;5;33mLSTM\u001b[0m)       │ (\u001b[38;5;45mNone\u001b[0m, \u001b[38;5;34m6\u001b[0m)         │      \u001b[38;5;34m1,704\u001b[0m │ abstract_embeddi… │\n",
       "├─────────────────────┼───────────────────┼────────────┼───────────────────┤\n",
       "│ add (\u001b[38;5;33mAdd\u001b[0m)           │ (\u001b[38;5;45mNone\u001b[0m, \u001b[38;5;34m6\u001b[0m)         │          \u001b[38;5;34m0\u001b[0m │ lstm[\u001b[38;5;34m0\u001b[0m][\u001b[38;5;34m0\u001b[0m],       │\n",
       "│                     │                   │            │ lstm_1[\u001b[38;5;34m0\u001b[0m][\u001b[38;5;34m0\u001b[0m]      │\n",
       "├─────────────────────┼───────────────────┼────────────┼───────────────────┤\n",
       "│ dense (\u001b[38;5;33mDense\u001b[0m)       │ (\u001b[38;5;45mNone\u001b[0m, \u001b[38;5;34m6\u001b[0m)         │         \u001b[38;5;34m42\u001b[0m │ add[\u001b[38;5;34m0\u001b[0m][\u001b[38;5;34m0\u001b[0m]         │\n",
       "└─────────────────────┴───────────────────┴────────────┴───────────────────┘\n"
      ]
     },
     "metadata": {},
     "output_type": "display_data"
    },
    {
     "data": {
      "text/html": [
       "<pre style=\"white-space:pre;overflow-x:auto;line-height:normal;font-family:Menlo,'DejaVu Sans Mono',consolas,'Courier New',monospace\"><span style=\"font-weight: bold\"> Total params: </span><span style=\"color: #00af00; text-decoration-color: #00af00\">6,403,450</span> (24.43 MB)\n",
       "</pre>\n"
      ],
      "text/plain": [
       "\u001b[1m Total params: \u001b[0m\u001b[38;5;34m6,403,450\u001b[0m (24.43 MB)\n"
      ]
     },
     "metadata": {},
     "output_type": "display_data"
    },
    {
     "data": {
      "text/html": [
       "<pre style=\"white-space:pre;overflow-x:auto;line-height:normal;font-family:Menlo,'DejaVu Sans Mono',consolas,'Courier New',monospace\"><span style=\"font-weight: bold\"> Trainable params: </span><span style=\"color: #00af00; text-decoration-color: #00af00\">6,403,450</span> (24.43 MB)\n",
       "</pre>\n"
      ],
      "text/plain": [
       "\u001b[1m Trainable params: \u001b[0m\u001b[38;5;34m6,403,450\u001b[0m (24.43 MB)\n"
      ]
     },
     "metadata": {},
     "output_type": "display_data"
    },
    {
     "data": {
      "text/html": [
       "<pre style=\"white-space:pre;overflow-x:auto;line-height:normal;font-family:Menlo,'DejaVu Sans Mono',consolas,'Courier New',monospace\"><span style=\"font-weight: bold\"> Non-trainable params: </span><span style=\"color: #00af00; text-decoration-color: #00af00\">0</span> (0.00 B)\n",
       "</pre>\n"
      ],
      "text/plain": [
       "\u001b[1m Non-trainable params: \u001b[0m\u001b[38;5;34m0\u001b[0m (0.00 B)\n"
      ]
     },
     "metadata": {},
     "output_type": "display_data"
    }
   ],
   "source": [
    "model.summary()"
   ]
  },
  {
   "cell_type": "code",
   "execution_count": 20,
   "id": "3afd7f79",
   "metadata": {
    "execution": {
     "iopub.execute_input": "2024-06-16T13:57:16.853096Z",
     "iopub.status.busy": "2024-06-16T13:57:16.852672Z",
     "iopub.status.idle": "2024-06-16T13:57:17.174762Z",
     "shell.execute_reply": "2024-06-16T13:57:17.173509Z"
    },
    "papermill": {
     "duration": 0.338368,
     "end_time": "2024-06-16T13:57:17.178025",
     "exception": false,
     "start_time": "2024-06-16T13:57:16.839657",
     "status": "completed"
    },
    "tags": []
   },
   "outputs": [
    {
     "data": {
      "image/png": "[encoded data removed]",
      "text/plain": [
       "<IPython.core.display.Image object>"
      ]
     },
     "execution_count": 20,
     "metadata": {},
     "output_type": "execute_result"
    }
   ],
   "source": [
    "tf.keras.utils.plot_model(model)"
   ]
  },
  {
   "cell_type": "code",
   "execution_count": 21,
   "id": "321e0004",
   "metadata": {
    "execution": {
     "iopub.execute_input": "2024-06-16T13:57:17.204394Z",
     "iopub.status.busy": "2024-06-16T13:57:17.203897Z",
     "iopub.status.idle": "2024-06-16T14:02:38.735876Z",
     "shell.execute_reply": "2024-06-16T14:02:38.734005Z"
    },
    "papermill": {
     "duration": 321.548807,
     "end_time": "2024-06-16T14:02:38.739237",
     "exception": false,
     "start_time": "2024-06-16T13:57:17.190430",
     "status": "completed"
    },
    "tags": []
   },
   "outputs": [
    {
     "name": "stdout",
     "output_type": "stream",
     "text": [
      "Epoch 1/10\n",
      "\u001b[1m263/263\u001b[0m \u001b[32m━━━━━━━━━━━━━━━━━━━━\u001b[0m\u001b[37m\u001b[0m \u001b[1m34s\u001b[0m 114ms/step - accuracy: 0.3989 - loss: 0.4922 - val_accuracy: 0.4138 - val_loss: 0.4367\n",
      "Epoch 2/10\n",
      "\u001b[1m263/263\u001b[0m \u001b[32m━━━━━━━━━━━━━━━━━━━━\u001b[0m\u001b[37m\u001b[0m \u001b[1m30s\u001b[0m 112ms/step - accuracy: 0.4125 - loss: 0.4319 - val_accuracy: 0.4138 - val_loss: 0.4280\n",
      "Epoch 3/10\n",
      "\u001b[1m263/263\u001b[0m \u001b[32m━━━━━━━━━━━━━━━━━━━━\u001b[0m\u001b[37m\u001b[0m \u001b[1m30s\u001b[0m 112ms/step - accuracy: 0.4245 - loss: 0.4052 - val_accuracy: 0.4870 - val_loss: 0.3883\n",
      "Epoch 4/10\n",
      "\u001b[1m263/263\u001b[0m \u001b[32m━━━━━━━━━━━━━━━━━━━━\u001b[0m\u001b[37m\u001b[0m \u001b[1m29s\u001b[0m 111ms/step - accuracy: 0.5620 - loss: 0.3701 - val_accuracy: 0.5454 - val_loss: 0.3732\n",
      "Epoch 5/10\n",
      "\u001b[1m263/263\u001b[0m \u001b[32m━━━━━━━━━━━━━━━━━━━━\u001b[0m\u001b[37m\u001b[0m \u001b[1m41s\u001b[0m 110ms/step - accuracy: 0.6014 - loss: 0.3487 - val_accuracy: 0.6000 - val_loss: 0.3623\n",
      "Epoch 6/10\n",
      "\u001b[1m263/263\u001b[0m \u001b[32m━━━━━━━━━━━━━━━━━━━━\u001b[0m\u001b[37m\u001b[0m \u001b[1m29s\u001b[0m 112ms/step - accuracy: 0.6885 - loss: 0.3175 - val_accuracy: 0.7580 - val_loss: 0.2908\n",
      "Epoch 7/10\n",
      "\u001b[1m263/263\u001b[0m \u001b[32m━━━━━━━━━━━━━━━━━━━━\u001b[0m\u001b[37m\u001b[0m \u001b[1m29s\u001b[0m 111ms/step - accuracy: 0.7900 - loss: 0.2479 - val_accuracy: 0.7476 - val_loss: 0.2796\n",
      "Epoch 8/10\n",
      "\u001b[1m263/263\u001b[0m \u001b[32m━━━━━━━━━━━━━━━━━━━━\u001b[0m\u001b[37m\u001b[0m \u001b[1m29s\u001b[0m 111ms/step - accuracy: 0.8069 - loss: 0.2171 - val_accuracy: 0.7530 - val_loss: 0.2724\n",
      "Epoch 9/10\n",
      "\u001b[1m263/263\u001b[0m \u001b[32m━━━━━━━━━━━━━━━━━━━━\u001b[0m\u001b[37m\u001b[0m \u001b[1m29s\u001b[0m 111ms/step - accuracy: 0.8221 - loss: 0.1954 - val_accuracy: 0.7433 - val_loss: 0.2747\n",
      "Epoch 10/10\n",
      "\u001b[1m263/263\u001b[0m \u001b[32m━━━━━━━━━━━━━━━━━━━━\u001b[0m\u001b[37m\u001b[0m \u001b[1m29s\u001b[0m 111ms/step - accuracy: 0.8275 - loss: 0.1794 - val_accuracy: 0.7404 - val_loss: 0.2738\n"
     ]
    }
   ],
   "source": [
    "history = model.fit(train_data, validation_data=valid_data, epochs=10)"
   ]
  },
  {
   "cell_type": "markdown",
   "id": "75395071",
   "metadata": {
    "papermill": {
     "duration": 0.263843,
     "end_time": "2024-06-16T14:02:39.273748",
     "exception": false,
     "start_time": "2024-06-16T14:02:39.009905",
     "status": "completed"
    },
    "tags": []
   },
   "source": []
  },
  {
   "cell_type": "code",
   "execution_count": 22,
   "id": "bff8d5e6",
   "metadata": {
    "execution": {
     "iopub.execute_input": "2024-06-16T14:02:39.805633Z",
     "iopub.status.busy": "2024-06-16T14:02:39.805139Z",
     "iopub.status.idle": "2024-06-16T14:02:40.144572Z",
     "shell.execute_reply": "2024-06-16T14:02:40.143448Z"
    },
    "papermill": {
     "duration": 0.610613,
     "end_time": "2024-06-16T14:02:40.147439",
     "exception": false,
     "start_time": "2024-06-16T14:02:39.536826",
     "status": "completed"
    },
    "tags": []
   },
   "outputs": [
    {
     "data": {
      "text/plain": [
       "<matplotlib.legend.Legend at 0x7fc5c6b2e890>"
      ]
     },
     "execution_count": 22,
     "metadata": {},
     "output_type": "execute_result"
    },
    {
     "data": {
      "image/png": "[encoded data removed]",
      "text/plain": [
       "<Figure size 640x480 with 1 Axes>"
      ]
     },
     "metadata": {},
     "output_type": "display_data"
    }
   ],
   "source": [
    "import matplotlib.pyplot as plt\n",
    "plt.plot([i for i in range(0, history.params['epochs'])], history.history['loss'], label='train_loss')\n",
    "plt.plot([i for i in range(0, history.params['epochs'])], history.history['val_loss'], label='val_loss')\n",
    "plt.xlabel(\"epochs\")\n",
    "plt.ylabel(\"loss\")\n",
    "plt.legend()\n"
   ]
  },
  {
   "cell_type": "code",
   "execution_count": 23,
   "id": "6d9d6e9d",
   "metadata": {
    "execution": {
     "iopub.execute_input": "2024-06-16T14:02:40.681275Z",
     "iopub.status.busy": "2024-06-16T14:02:40.680395Z",
     "iopub.status.idle": "2024-06-16T14:02:40.899775Z",
     "shell.execute_reply": "2024-06-16T14:02:40.898653Z"
    },
    "papermill": {
     "duration": 0.487454,
     "end_time": "2024-06-16T14:02:40.902338",
     "exception": false,
     "start_time": "2024-06-16T14:02:40.414884",
     "status": "completed"
    },
    "tags": []
   },
   "outputs": [
    {
     "data": {
      "image/png": "[encoded data removed]",
      "text/plain": [
       "<Figure size 640x480 with 1 Axes>"
      ]
     },
     "metadata": {},
     "output_type": "display_data"
    }
   ],
   "source": [
    "plt.plot([i for i in range(0, history.params['epochs'])], history.history['accuracy'], label='train_acc')\n",
    "plt.plot([i for i in range(0, history.params['epochs'])], history.history['val_accuracy'], label='val_acc')\n",
    "plt.legend()\n",
    "plt.show()"
   ]
  },
  {
   "cell_type": "markdown",
   "id": "41cd5ca0",
   "metadata": {
    "papermill": {
     "duration": 0.264801,
     "end_time": "2024-06-16T14:02:41.432074",
     "exception": false,
     "start_time": "2024-06-16T14:02:41.167273",
     "status": "completed"
    },
    "tags": []
   },
   "source": [
    "**TEST DATASET PREDICTION**"
   ]
  },
  {
   "cell_type": "code",
   "execution_count": 24,
   "id": "3fa4e053",
   "metadata": {
    "execution": {
     "iopub.execute_input": "2024-06-16T14:02:41.965177Z",
     "iopub.status.busy": "2024-06-16T14:02:41.964731Z",
     "iopub.status.idle": "2024-06-16T14:02:42.188735Z",
     "shell.execute_reply": "2024-06-16T14:02:42.187572Z"
    },
    "papermill": {
     "duration": 0.495654,
     "end_time": "2024-06-16T14:02:42.191423",
     "exception": false,
     "start_time": "2024-06-16T14:02:41.695769",
     "status": "completed"
    },
    "tags": []
   },
   "outputs": [],
   "source": [
    "test_df = pd.read_csv('/kaggle/input/multilabel-classification-dataset/test.csv')"
   ]
  },
  {
   "cell_type": "code",
   "execution_count": 25,
   "id": "fa226348",
   "metadata": {
    "execution": {
     "iopub.execute_input": "2024-06-16T14:02:42.792754Z",
     "iopub.status.busy": "2024-06-16T14:02:42.791741Z",
     "iopub.status.idle": "2024-06-16T14:02:49.773187Z",
     "shell.execute_reply": "2024-06-16T14:02:49.771964Z"
    },
    "papermill": {
     "duration": 7.252667,
     "end_time": "2024-06-16T14:02:49.775855",
     "exception": false,
     "start_time": "2024-06-16T14:02:42.523188",
     "status": "completed"
    },
    "tags": []
   },
   "outputs": [
    {
     "name": "stdout",
     "output_type": "stream",
     "text": [
      "(8989, 100) (8989, 200)\n",
      "\u001b[1m281/281\u001b[0m \u001b[32m━━━━━━━━━━━━━━━━━━━━\u001b[0m\u001b[37m\u001b[0m \u001b[1m6s\u001b[0m 21ms/step\n"
     ]
    }
   ],
   "source": [
    "test_preds = predict(model, test_df['TITLE'], test_df['ABSTRACT'])"
   ]
  },
  {
   "cell_type": "code",
   "execution_count": 26,
   "id": "0c441bca",
   "metadata": {
    "execution": {
     "iopub.execute_input": "2024-06-16T14:02:50.334502Z",
     "iopub.status.busy": "2024-06-16T14:02:50.334001Z",
     "iopub.status.idle": "2024-06-16T14:02:50.390447Z",
     "shell.execute_reply": "2024-06-16T14:02:50.389367Z"
    },
    "papermill": {
     "duration": 0.338163,
     "end_time": "2024-06-16T14:02:50.393374",
     "exception": false,
     "start_time": "2024-06-16T14:02:50.055211",
     "status": "completed"
    },
    "tags": []
   },
   "outputs": [],
   "source": [
    "results = pd.DataFrame(test_preds, columns=label_tags)\n",
    "for i in label_tags:\n",
    "    results[i] = results[i].apply(lambda x: 1 if x >=0.5 else 0)"
   ]
  },
  {
   "cell_type": "code",
   "execution_count": 27,
   "id": "b6896d4a",
   "metadata": {
    "execution": {
     "iopub.execute_input": "2024-06-16T14:02:50.948255Z",
     "iopub.status.busy": "2024-06-16T14:02:50.947830Z",
     "iopub.status.idle": "2024-06-16T14:02:50.955687Z",
     "shell.execute_reply": "2024-06-16T14:02:50.954439Z"
    },
    "papermill": {
     "duration": 0.289433,
     "end_time": "2024-06-16T14:02:50.957936",
     "exception": false,
     "start_time": "2024-06-16T14:02:50.668503",
     "status": "completed"
    },
    "tags": []
   },
   "outputs": [],
   "source": [
    "results['TITLE'] = test_df['TITLE']\n",
    "results['ABSTRACT'] = test_df['ABSTRACT']"
   ]
  },
  {
   "cell_type": "code",
   "execution_count": 28,
   "id": "832e74c0",
   "metadata": {
    "execution": {
     "iopub.execute_input": "2024-06-16T14:02:51.508004Z",
     "iopub.status.busy": "2024-06-16T14:02:51.507603Z",
     "iopub.status.idle": "2024-06-16T14:02:51.530673Z",
     "shell.execute_reply": "2024-06-16T14:02:51.529413Z"
    },
    "papermill": {
     "duration": 0.302561,
     "end_time": "2024-06-16T14:02:51.532961",
     "exception": false,
     "start_time": "2024-06-16T14:02:51.230400",
     "status": "completed"
    },
    "tags": []
   },
   "outputs": [
    {
     "data": {
      "text/html": [
       "<div>\n",
       "<style scoped>\n",
       "    .dataframe tbody tr th:only-of-type {\n",
       "        vertical-align: middle;\n",
       "    }\n",
       "\n",
       "    .dataframe tbody tr th {\n",
       "        vertical-align: top;\n",
       "    }\n",
       "\n",
       "    .dataframe thead th {\n",
       "        text-align: right;\n",
       "    }\n",
       "</style>\n",
       "<table border=\"1\" class=\"dataframe\">\n",
       "  <thead>\n",
       "    <tr style=\"text-align: right;\">\n",
       "      <th></th>\n",
       "      <th>Computer Science</th>\n",
       "      <th>Physics</th>\n",
       "      <th>Mathematics</th>\n",
       "      <th>Statistics</th>\n",
       "      <th>Quantitative Biology</th>\n",
       "      <th>Quantitative Finance</th>\n",
       "      <th>TITLE</th>\n",
       "      <th>ABSTRACT</th>\n",
       "    </tr>\n",
       "  </thead>\n",
       "  <tbody>\n",
       "    <tr>\n",
       "      <th>0</th>\n",
       "      <td>0</td>\n",
       "      <td>0</td>\n",
       "      <td>0</td>\n",
       "      <td>1</td>\n",
       "      <td>0</td>\n",
       "      <td>0</td>\n",
       "      <td>Closed-form Marginal Likelihood in Gamma-Poiss...</td>\n",
       "      <td>We present novel understandings of the Gamma...</td>\n",
       "    </tr>\n",
       "    <tr>\n",
       "      <th>1</th>\n",
       "      <td>0</td>\n",
       "      <td>1</td>\n",
       "      <td>0</td>\n",
       "      <td>0</td>\n",
       "      <td>0</td>\n",
       "      <td>0</td>\n",
       "      <td>Laboratory mid-IR spectra of equilibrated and ...</td>\n",
       "      <td>Meteorites contain minerals from Solar Syste...</td>\n",
       "    </tr>\n",
       "    <tr>\n",
       "      <th>2</th>\n",
       "      <td>1</td>\n",
       "      <td>0</td>\n",
       "      <td>0</td>\n",
       "      <td>0</td>\n",
       "      <td>0</td>\n",
       "      <td>0</td>\n",
       "      <td>Case For Static AMSDU Aggregation in WLANs</td>\n",
       "      <td>Frame aggregation is a mechanism by which mu...</td>\n",
       "    </tr>\n",
       "    <tr>\n",
       "      <th>3</th>\n",
       "      <td>0</td>\n",
       "      <td>1</td>\n",
       "      <td>0</td>\n",
       "      <td>0</td>\n",
       "      <td>0</td>\n",
       "      <td>0</td>\n",
       "      <td>The $Gaia$-ESO Survey: the inner disk intermed...</td>\n",
       "      <td>Milky Way open clusters are very diverse in ...</td>\n",
       "    </tr>\n",
       "    <tr>\n",
       "      <th>4</th>\n",
       "      <td>1</td>\n",
       "      <td>0</td>\n",
       "      <td>0</td>\n",
       "      <td>1</td>\n",
       "      <td>0</td>\n",
       "      <td>0</td>\n",
       "      <td>Witness-Functions versus Interpretation-Functi...</td>\n",
       "      <td>Proving that a cryptographic protocol is cor...</td>\n",
       "    </tr>\n",
       "    <tr>\n",
       "      <th>...</th>\n",
       "      <td>...</td>\n",
       "      <td>...</td>\n",
       "      <td>...</td>\n",
       "      <td>...</td>\n",
       "      <td>...</td>\n",
       "      <td>...</td>\n",
       "      <td>...</td>\n",
       "      <td>...</td>\n",
       "    </tr>\n",
       "    <tr>\n",
       "      <th>8984</th>\n",
       "      <td>1</td>\n",
       "      <td>0</td>\n",
       "      <td>0</td>\n",
       "      <td>0</td>\n",
       "      <td>0</td>\n",
       "      <td>0</td>\n",
       "      <td>Supporting mixed-datatype matrix multiplicatio...</td>\n",
       "      <td>We approach the problem of implementing mixe...</td>\n",
       "    </tr>\n",
       "    <tr>\n",
       "      <th>8985</th>\n",
       "      <td>0</td>\n",
       "      <td>0</td>\n",
       "      <td>0</td>\n",
       "      <td>0</td>\n",
       "      <td>0</td>\n",
       "      <td>0</td>\n",
       "      <td>An axiomatic basis for Blackwell optimality</td>\n",
       "      <td>In the theory of Markov decision processes (...</td>\n",
       "    </tr>\n",
       "    <tr>\n",
       "      <th>8986</th>\n",
       "      <td>1</td>\n",
       "      <td>0</td>\n",
       "      <td>0</td>\n",
       "      <td>0</td>\n",
       "      <td>0</td>\n",
       "      <td>0</td>\n",
       "      <td>GeneVis - An interactive visualization tool fo...</td>\n",
       "      <td>GeneVis is a web-based tool to visualize com...</td>\n",
       "    </tr>\n",
       "    <tr>\n",
       "      <th>8987</th>\n",
       "      <td>1</td>\n",
       "      <td>0</td>\n",
       "      <td>0</td>\n",
       "      <td>1</td>\n",
       "      <td>0</td>\n",
       "      <td>0</td>\n",
       "      <td>Quantifying the causal effect of speed cameras...</td>\n",
       "      <td>This paper quantifies the effect of speed ca...</td>\n",
       "    </tr>\n",
       "    <tr>\n",
       "      <th>8988</th>\n",
       "      <td>0</td>\n",
       "      <td>0</td>\n",
       "      <td>1</td>\n",
       "      <td>0</td>\n",
       "      <td>0</td>\n",
       "      <td>0</td>\n",
       "      <td>Cube-magic labelings of grids</td>\n",
       "      <td>We show that the vertices and edges of a $d$...</td>\n",
       "    </tr>\n",
       "  </tbody>\n",
       "</table>\n",
       "<p>8989 rows × 8 columns</p>\n",
       "</div>"
      ],
      "text/plain": [
       "      Computer Science  Physics  Mathematics  Statistics  \\\n",
       "0                    0        0            0           1   \n",
       "1                    0        1            0           0   \n",
       "2                    1        0            0           0   \n",
       "3                    0        1            0           0   \n",
       "4                    1        0            0           1   \n",
       "...                ...      ...          ...         ...   \n",
       "8984                 1        0            0           0   \n",
       "8985                 0        0            0           0   \n",
       "8986                 1        0            0           0   \n",
       "8987                 1        0            0           1   \n",
       "8988                 0        0            1           0   \n",
       "\n",
       "      Quantitative Biology  Quantitative Finance  \\\n",
       "0                        0                     0   \n",
       "1                        0                     0   \n",
       "2                        0                     0   \n",
       "3                        0                     0   \n",
       "4                        0                     0   \n",
       "...                    ...                   ...   \n",
       "8984                     0                     0   \n",
       "8985                     0                     0   \n",
       "8986                     0                     0   \n",
       "8987                     0                     0   \n",
       "8988                     0                     0   \n",
       "\n",
       "                                                  TITLE  \\\n",
       "0     Closed-form Marginal Likelihood in Gamma-Poiss...   \n",
       "1     Laboratory mid-IR spectra of equilibrated and ...   \n",
       "2            Case For Static AMSDU Aggregation in WLANs   \n",
       "3     The $Gaia$-ESO Survey: the inner disk intermed...   \n",
       "4     Witness-Functions versus Interpretation-Functi...   \n",
       "...                                                 ...   \n",
       "8984  Supporting mixed-datatype matrix multiplicatio...   \n",
       "8985        An axiomatic basis for Blackwell optimality   \n",
       "8986  GeneVis - An interactive visualization tool fo...   \n",
       "8987  Quantifying the causal effect of speed cameras...   \n",
       "8988                      Cube-magic labelings of grids   \n",
       "\n",
       "                                               ABSTRACT  \n",
       "0       We present novel understandings of the Gamma...  \n",
       "1       Meteorites contain minerals from Solar Syste...  \n",
       "2       Frame aggregation is a mechanism by which mu...  \n",
       "3       Milky Way open clusters are very diverse in ...  \n",
       "4       Proving that a cryptographic protocol is cor...  \n",
       "...                                                 ...  \n",
       "8984    We approach the problem of implementing mixe...  \n",
       "8985    In the theory of Markov decision processes (...  \n",
       "8986    GeneVis is a web-based tool to visualize com...  \n",
       "8987    This paper quantifies the effect of speed ca...  \n",
       "8988    We show that the vertices and edges of a $d$...  \n",
       "\n",
       "[8989 rows x 8 columns]"
      ]
     },
     "execution_count": 28,
     "metadata": {},
     "output_type": "execute_result"
    }
   ],
   "source": [
    "results"
   ]
  },
  {
   "cell_type": "code",
   "execution_count": null,
   "id": "c2251f9e",
   "metadata": {
    "papermill": {
     "duration": 0.27953,
     "end_time": "2024-06-16T14:02:52.092941",
     "exception": false,
     "start_time": "2024-06-16T14:02:51.813411",
     "status": "completed"
    },
    "tags": []
   },
   "outputs": [],
   "source": []
  },
  {
   "cell_type": "code",
   "execution_count": null,
   "id": "13515005",
   "metadata": {
    "papermill": {
     "duration": 0.276342,
     "end_time": "2024-06-16T14:02:52.707382",
     "exception": false,
     "start_time": "2024-06-16T14:02:52.431040",
     "status": "completed"
    },
    "tags": []
   },
   "outputs": [],
   "source": []
  }
 ],
 "metadata": {
  "kaggle": {
   "accelerator": "none",
   "dataSources": [
    {
     "datasetId": 1123189,
     "sourceId": 1885658,
     "sourceType": "datasetVersion"
    }
   ],
   "dockerImageVersionId": 30732,
   "isGpuEnabled": false,
   "isInternetEnabled": false,
   "language": "python",
   "sourceType": "notebook"
  },
  "kernelspec": {
   "display_name": "Python 3",
   "language": "python",
   "name": "python3"
  },
  "language_info": {
   "codemirror_mode": {
    "name": "ipython",
    "version": 3
   },
   "file_extension": ".py",
   "mimetype": "text/x-python",
   "name": "python",
   "nbconvert_exporter": "python",
   "pygments_lexer": "ipython3",
   "version": "3.10.13"
  },
  "papermill": {
   "default_parameters": {},
   "duration": 366.09221,
   "end_time": "2024-06-16T14:02:54.912203",
   "environment_variables": {},
   "exception": null,
   "input_path": "__notebook__.ipynb",
   "output_path": "__notebook__.ipynb",
   "parameters": {},
   "start_time": "2024-06-16T13:56:48.819993",
   "version": "2.5.0"
  }
 },
 "nbformat": 4,
 "nbformat_minor": 5
}
