{
 "cells": [
  {
   "cell_type": "code",
   "execution_count": 1,
   "id": "9e63597d",
   "metadata": {
    "_cell_guid": "b1076dfc-b9ad-4769-8c92-a6c4dae69d19",
    "_uuid": "8f2839f25d086af736a60e9eeb907d3b93b6e0e5",
    "execution": {
     "iopub.execute_input": "2024-06-17T13:59:06.626201Z",
     "iopub.status.busy": "2024-06-17T13:59:06.625833Z",
     "iopub.status.idle": "2024-06-17T13:59:07.539557Z",
     "shell.execute_reply": "2024-06-17T13:59:07.538313Z"
    },
    "papermill": {
     "duration": 0.927424,
     "end_time": "2024-06-17T13:59:07.542392",
     "exception": false,
     "start_time": "2024-06-17T13:59:06.614968",
     "status": "completed"
    },
    "tags": []
   },
   "outputs": [
    {
     "name": "stdout",
     "output_type": "stream",
     "text": [
      "/kaggle/input/bert/keras/bert_small_en_uncased/2/config.json\n",
      "/kaggle/input/bert/keras/bert_small_en_uncased/2/tokenizer.json\n",
      "/kaggle/input/bert/keras/bert_small_en_uncased/2/metadata.json\n",
      "/kaggle/input/bert/keras/bert_small_en_uncased/2/model.weights.h5\n",
      "/kaggle/input/bert/keras/bert_small_en_uncased/2/assets/tokenizer/vocabulary.txt\n",
      "/kaggle/input/multilabel-classification-dataset/sample_submission.csv\n",
      "/kaggle/input/multilabel-classification-dataset/train.csv\n",
      "/kaggle/input/multilabel-classification-dataset/test.csv\n"
     ]
    }
   ],
   "source": [
    "# This Python 3 environment comes with many helpful analytics libraries installed\n",
    "# It is defined by the kaggle/python Docker image: https://github.com/kaggle/docker-python\n",
    "# For example, here's several helpful packages to load\n",
    "\n",
    "import numpy as np # linear algebra\n",
    "import pandas as pd # data processing, CSV file I/O (e.g. pd.read_csv)\n",
    "\n",
    "# Input data files are available in the read-only \"../input/\" directory\n",
    "# For example, running this (by clicking run or pressing Shift+Enter) will list all files under the input directory\n",
    "\n",
    "import os\n",
    "for dirname, _, filenames in os.walk('/kaggle/input'):\n",
    "    for filename in filenames:\n",
    "        print(os.path.join(dirname, filename))\n",
    "\n",
    "# You can write up to 20GB to the current directory (/kaggle/working/) that gets preserved as output when you create a version using \"Save & Run All\" \n",
    "# You can also write temporary files to /kaggle/temp/, but they won't be saved outside of the current session"
   ]
  },
  {
   "cell_type": "code",
   "execution_count": 2,
   "id": "0b098407",
   "metadata": {
    "execution": {
     "iopub.execute_input": "2024-06-17T13:59:07.564505Z",
     "iopub.status.busy": "2024-06-17T13:59:07.563492Z",
     "iopub.status.idle": "2024-06-17T13:59:07.643933Z",
     "shell.execute_reply": "2024-06-17T13:59:07.642812Z"
    },
    "papermill": {
     "duration": 0.094464,
     "end_time": "2024-06-17T13:59:07.646927",
     "exception": false,
     "start_time": "2024-06-17T13:59:07.552463",
     "status": "completed"
    },
    "tags": []
   },
   "outputs": [],
   "source": [
    "df = pd.read_csv('/kaggle/input/multilabel-classification-dataset/sample_submission.csv')"
   ]
  },
  {
   "cell_type": "code",
   "execution_count": 3,
   "id": "6f9db776",
   "metadata": {
    "execution": {
     "iopub.execute_input": "2024-06-17T13:59:07.668464Z",
     "iopub.status.busy": "2024-06-17T13:59:07.668094Z",
     "iopub.status.idle": "2024-06-17T13:59:07.676485Z",
     "shell.execute_reply": "2024-06-17T13:59:07.675144Z"
    },
    "papermill": {
     "duration": 0.023248,
     "end_time": "2024-06-17T13:59:07.680405",
     "exception": false,
     "start_time": "2024-06-17T13:59:07.657157",
     "status": "completed"
    },
    "tags": []
   },
   "outputs": [
    {
     "data": {
      "text/plain": [
       "['Computer Science',\n",
       " 'Physics',\n",
       " 'Mathematics',\n",
       " 'Statistics',\n",
       " 'Quantitative Biology',\n",
       " 'Quantitative Finance']"
      ]
     },
     "execution_count": 3,
     "metadata": {},
     "output_type": "execute_result"
    }
   ],
   "source": [
    "tags = list(df.columns)\n",
    "tags = tags[1:]\n",
    "tags"
   ]
  },
  {
   "cell_type": "code",
   "execution_count": 4,
   "id": "120c794e",
   "metadata": {
    "execution": {
     "iopub.execute_input": "2024-06-17T13:59:07.702835Z",
     "iopub.status.busy": "2024-06-17T13:59:07.702108Z",
     "iopub.status.idle": "2024-06-17T13:59:09.453168Z",
     "shell.execute_reply": "2024-06-17T13:59:09.451863Z"
    },
    "papermill": {
     "duration": 1.765851,
     "end_time": "2024-06-17T13:59:09.456617",
     "exception": false,
     "start_time": "2024-06-17T13:59:07.690766",
     "status": "completed"
    },
    "tags": []
   },
   "outputs": [],
   "source": [
    "train_set = pd.read_csv('/kaggle/input/multilabel-classification-dataset/train.csv')\n"
   ]
  },
  {
   "cell_type": "code",
   "execution_count": 5,
   "id": "b3655551",
   "metadata": {
    "execution": {
     "iopub.execute_input": "2024-06-17T13:59:09.480376Z",
     "iopub.status.busy": "2024-06-17T13:59:09.479344Z",
     "iopub.status.idle": "2024-06-17T13:59:09.484884Z",
     "shell.execute_reply": "2024-06-17T13:59:09.483606Z"
    },
    "papermill": {
     "duration": 0.019946,
     "end_time": "2024-06-17T13:59:09.487542",
     "exception": false,
     "start_time": "2024-06-17T13:59:09.467596",
     "status": "completed"
    },
    "tags": []
   },
   "outputs": [],
   "source": [
    "cols = train_set.columns\n",
    "import traceback\n"
   ]
  },
  {
   "cell_type": "markdown",
   "id": "11848392",
   "metadata": {
    "papermill": {
     "duration": 0.010359,
     "end_time": "2024-06-17T13:59:09.508315",
     "exception": false,
     "start_time": "2024-06-17T13:59:09.497956",
     "status": "completed"
    },
    "tags": []
   },
   "source": [
    "Idea is to use BERT for TAG Classification problem. \n",
    "Finetune the last layer of the bert model..\n",
    "\n",
    "1. Tokenize the TITLE and ABSTRACT and create a VOCAB (taken care by BERT Tokenizer and Vocab)\n",
    "2. Fine Tune the last layer of the model. "
   ]
  },
  {
   "cell_type": "code",
   "execution_count": 6,
   "id": "df6abcb2",
   "metadata": {
    "execution": {
     "iopub.execute_input": "2024-06-17T13:59:09.531890Z",
     "iopub.status.busy": "2024-06-17T13:59:09.531132Z",
     "iopub.status.idle": "2024-06-17T13:59:24.885228Z",
     "shell.execute_reply": "2024-06-17T13:59:24.883961Z"
    },
    "papermill": {
     "duration": 15.368557,
     "end_time": "2024-06-17T13:59:24.888189",
     "exception": false,
     "start_time": "2024-06-17T13:59:09.519632",
     "status": "completed"
    },
    "tags": []
   },
   "outputs": [
    {
     "name": "stderr",
     "output_type": "stream",
     "text": [
      "2024-06-17 13:59:11.355605: E external/local_xla/xla/stream_executor/cuda/cuda_dnn.cc:9261] Unable to register cuDNN factory: Attempting to register factory for plugin cuDNN when one has already been registered\n",
      "2024-06-17 13:59:11.355775: E external/local_xla/xla/stream_executor/cuda/cuda_fft.cc:607] Unable to register cuFFT factory: Attempting to register factory for plugin cuFFT when one has already been registered\n",
      "2024-06-17 13:59:11.463748: E external/local_xla/xla/stream_executor/cuda/cuda_blas.cc:1515] Unable to register cuBLAS factory: Attempting to register factory for plugin cuBLAS when one has already been registered\n"
     ]
    }
   ],
   "source": [
    "import os\n",
    "import shutil\n",
    "\n",
    "import tensorflow as tf\n",
    "import tensorflow_hub as hub\n",
    "import tensorflow_text as text\n",
    "import matplotlib.pyplot as plt\n",
    "import keras_nlp\n",
    "tf.compat.v1.enable_eager_execution()"
   ]
  },
  {
   "cell_type": "code",
   "execution_count": 7,
   "id": "1c5ff60d",
   "metadata": {
    "execution": {
     "iopub.execute_input": "2024-06-17T13:59:24.911014Z",
     "iopub.status.busy": "2024-06-17T13:59:24.910298Z",
     "iopub.status.idle": "2024-06-17T13:59:25.874685Z",
     "shell.execute_reply": "2024-06-17T13:59:25.873410Z"
    },
    "papermill": {
     "duration": 0.978339,
     "end_time": "2024-06-17T13:59:25.877368",
     "exception": false,
     "start_time": "2024-06-17T13:59:24.899029",
     "status": "completed"
    },
    "tags": []
   },
   "outputs": [],
   "source": [
    "from sklearn.model_selection import train_test_split\n",
    "\n",
    "train, valid = train_test_split(train_set, test_size=0.2)"
   ]
  },
  {
   "cell_type": "code",
   "execution_count": 8,
   "id": "413a7465",
   "metadata": {
    "execution": {
     "iopub.execute_input": "2024-06-17T13:59:25.898459Z",
     "iopub.status.busy": "2024-06-17T13:59:25.897558Z",
     "iopub.status.idle": "2024-06-17T13:59:25.903659Z",
     "shell.execute_reply": "2024-06-17T13:59:25.902654Z"
    },
    "papermill": {
     "duration": 0.018906,
     "end_time": "2024-06-17T13:59:25.905819",
     "exception": false,
     "start_time": "2024-06-17T13:59:25.886913",
     "status": "completed"
    },
    "tags": []
   },
   "outputs": [],
   "source": [
    "def get_labels(df):\n",
    "    labels = []\n",
    "    for i, row in df.iterrows():\n",
    "        labels.append([row[k] for k in tags])\n",
    "    return labels\n",
    "            "
   ]
  },
  {
   "cell_type": "code",
   "execution_count": 9,
   "id": "5e3e875d",
   "metadata": {
    "execution": {
     "iopub.execute_input": "2024-06-17T13:59:25.925529Z",
     "iopub.status.busy": "2024-06-17T13:59:25.925222Z",
     "iopub.status.idle": "2024-06-17T13:59:27.719414Z",
     "shell.execute_reply": "2024-06-17T13:59:27.718230Z"
    },
    "papermill": {
     "duration": 1.807318,
     "end_time": "2024-06-17T13:59:27.722275",
     "exception": false,
     "start_time": "2024-06-17T13:59:25.914957",
     "status": "completed"
    },
    "tags": []
   },
   "outputs": [],
   "source": [
    "train_labels = get_labels(train)\n",
    "valid_labels = get_labels(valid)"
   ]
  },
  {
   "cell_type": "code",
   "execution_count": 10,
   "id": "bc1f7740",
   "metadata": {
    "execution": {
     "iopub.execute_input": "2024-06-17T13:59:27.742375Z",
     "iopub.status.busy": "2024-06-17T13:59:27.741985Z",
     "iopub.status.idle": "2024-06-17T13:59:27.755631Z",
     "shell.execute_reply": "2024-06-17T13:59:27.754477Z"
    },
    "papermill": {
     "duration": 0.026105,
     "end_time": "2024-06-17T13:59:27.757824",
     "exception": false,
     "start_time": "2024-06-17T13:59:27.731719",
     "status": "completed"
    },
    "tags": []
   },
   "outputs": [],
   "source": [
    "train = train[['TITLE', 'ABSTRACT']]\n",
    "valid = valid[['TITLE', 'ABSTRACT']]\n"
   ]
  },
  {
   "cell_type": "code",
   "execution_count": 11,
   "id": "310fef07",
   "metadata": {
    "execution": {
     "iopub.execute_input": "2024-06-17T13:59:27.779956Z",
     "iopub.status.busy": "2024-06-17T13:59:27.778914Z",
     "iopub.status.idle": "2024-06-17T13:59:34.631712Z",
     "shell.execute_reply": "2024-06-17T13:59:34.630561Z"
    },
    "papermill": {
     "duration": 6.867262,
     "end_time": "2024-06-17T13:59:34.634736",
     "exception": false,
     "start_time": "2024-06-17T13:59:27.767474",
     "status": "completed"
    },
    "tags": []
   },
   "outputs": [
    {
     "name": "stderr",
     "output_type": "stream",
     "text": [
      "Attaching 'metadata.json' from model 'keras/bert/keras/bert_small_en_uncased/2' to your Kaggle notebook...\n",
      "Attaching 'metadata.json' from model 'keras/bert/keras/bert_small_en_uncased/2' to your Kaggle notebook...\n",
      "Attaching 'preprocessor.json' from model 'keras/bert/keras/bert_small_en_uncased/2' to your Kaggle notebook...\n",
      "Attaching 'tokenizer.json' from model 'keras/bert/keras/bert_small_en_uncased/2' to your Kaggle notebook...\n",
      "Attaching 'tokenizer.json' from model 'keras/bert/keras/bert_small_en_uncased/2' to your Kaggle notebook...\n",
      "Attaching 'assets/tokenizer/vocabulary.txt' from model 'keras/bert/keras/bert_small_en_uncased/2' to your Kaggle notebook...\n"
     ]
    }
   ],
   "source": [
    "#preprocessing layer\n",
    "preprocess_layer = keras_nlp.models.BertPreprocessor.from_preset('bert_small_en_uncased')"
   ]
  },
  {
   "cell_type": "code",
   "execution_count": 12,
   "id": "806b3553",
   "metadata": {
    "execution": {
     "iopub.execute_input": "2024-06-17T13:59:34.658260Z",
     "iopub.status.busy": "2024-06-17T13:59:34.657414Z",
     "iopub.status.idle": "2024-06-17T13:59:36.086233Z",
     "shell.execute_reply": "2024-06-17T13:59:36.085216Z"
    },
    "papermill": {
     "duration": 1.443395,
     "end_time": "2024-06-17T13:59:36.088729",
     "exception": false,
     "start_time": "2024-06-17T13:59:34.645334",
     "status": "completed"
    },
    "tags": []
   },
   "outputs": [
    {
     "name": "stdout",
     "output_type": "stream",
     "text": [
      "WARNING: AutoGraph could not transform <function <lambda> at 0x7b75d075ba30> and will run it as-is.\n",
      "Cause: could not parse the source code of <function <lambda> at 0x7b75d075ba30>: found multiple definitions with identical signatures at the location. This error may be avoided by defining each lambda on a single line and with unique argument names. The matching definitions were:\n",
      "Match 0:\n",
      "lambda x, y: ((x['token_ids'], x['segment_ids'], x['padding_mask']), y)\n",
      "\n",
      "Match 1:\n",
      "lambda x, y: (preprocess_layer(x), y)\n",
      "\n",
      "To silence this warning, decorate the function with @tf.autograph.experimental.do_not_convert\n",
      "WARNING: AutoGraph could not transform <function <lambda> at 0x7b75d075bac0> and will run it as-is.\n",
      "Cause: could not parse the source code of <function <lambda> at 0x7b75d075bac0>: found multiple definitions with identical signatures at the location. This error may be avoided by defining each lambda on a single line and with unique argument names. The matching definitions were:\n",
      "Match 0:\n",
      "lambda x, y: ((x['token_ids'], x['segment_ids'], x['padding_mask']), y)\n",
      "\n",
      "Match 1:\n",
      "lambda x, y: (preprocess_layer(x), y)\n",
      "\n",
      "To silence this warning, decorate the function with @tf.autograph.experimental.do_not_convert\n"
     ]
    }
   ],
   "source": [
    "train_dataset = tf.data.Dataset.from_tensor_slices((list(train['TITLE']), train_labels)).map(lambda x, y: (preprocess_layer(x), y)).map(lambda x, y: \n",
    "                                                                                                                           ((x['token_ids'], x['segment_ids'], x['padding_mask']), y)).batch(64)"
   ]
  },
  {
   "cell_type": "code",
   "execution_count": 13,
   "id": "3f4a9458",
   "metadata": {
    "execution": {
     "iopub.execute_input": "2024-06-17T13:59:36.109767Z",
     "iopub.status.busy": "2024-06-17T13:59:36.109454Z",
     "iopub.status.idle": "2024-06-17T13:59:37.149989Z",
     "shell.execute_reply": "2024-06-17T13:59:37.149029Z"
    },
    "papermill": {
     "duration": 1.054002,
     "end_time": "2024-06-17T13:59:37.152769",
     "exception": false,
     "start_time": "2024-06-17T13:59:36.098767",
     "status": "completed"
    },
    "tags": []
   },
   "outputs": [
    {
     "name": "stdout",
     "output_type": "stream",
     "text": [
      "WARNING: AutoGraph could not transform <function <lambda> at 0x7b75d075bbe0> and will run it as-is.\n",
      "Cause: could not parse the source code of <function <lambda> at 0x7b75d075bbe0>: found multiple definitions with identical signatures at the location. This error may be avoided by defining each lambda on a single line and with unique argument names. The matching definitions were:\n",
      "Match 0:\n",
      "lambda x, y: ((x['token_ids'], x['segment_ids'], x['padding_mask']), y)\n",
      "\n",
      "Match 1:\n",
      "lambda x, y: (preprocess_layer(x), y)\n",
      "\n",
      "To silence this warning, decorate the function with @tf.autograph.experimental.do_not_convert\n",
      "WARNING: AutoGraph could not transform <function <lambda> at 0x7b75698cc790> and will run it as-is.\n",
      "Cause: could not parse the source code of <function <lambda> at 0x7b75698cc790>: found multiple definitions with identical signatures at the location. This error may be avoided by defining each lambda on a single line and with unique argument names. The matching definitions were:\n",
      "Match 0:\n",
      "lambda x, y: ((x['token_ids'], x['segment_ids'], x['padding_mask']), y)\n",
      "\n",
      "Match 1:\n",
      "lambda x, y: (preprocess_layer(x), y)\n",
      "\n",
      "To silence this warning, decorate the function with @tf.autograph.experimental.do_not_convert\n"
     ]
    }
   ],
   "source": [
    "valid_dataset = tf.data.Dataset.from_tensor_slices((list(valid['TITLE']), valid_labels)).map(lambda x, y: (preprocess_layer(x), y)).map(lambda x, y: \n",
    "                                                                                                                             ((x['token_ids'], x['segment_ids'], x['padding_mask']), y)).batch(64)"
   ]
  },
  {
   "cell_type": "code",
   "execution_count": 14,
   "id": "ecfe4782",
   "metadata": {
    "execution": {
     "iopub.execute_input": "2024-06-17T13:59:37.177619Z",
     "iopub.status.busy": "2024-06-17T13:59:37.176857Z",
     "iopub.status.idle": "2024-06-17T13:59:45.359625Z",
     "shell.execute_reply": "2024-06-17T13:59:45.358593Z"
    },
    "papermill": {
     "duration": 8.198007,
     "end_time": "2024-06-17T13:59:45.362114",
     "exception": false,
     "start_time": "2024-06-17T13:59:37.164107",
     "status": "completed"
    },
    "tags": []
   },
   "outputs": [
    {
     "name": "stderr",
     "output_type": "stream",
     "text": [
      "Attaching 'metadata.json' from model 'keras/bert/keras/bert_small_en_uncased/2' to your Kaggle notebook...\n",
      "Attaching 'metadata.json' from model 'keras/bert/keras/bert_small_en_uncased/2' to your Kaggle notebook...\n",
      "Attaching 'config.json' from model 'keras/bert/keras/bert_small_en_uncased/2' to your Kaggle notebook...\n",
      "Attaching 'config.json' from model 'keras/bert/keras/bert_small_en_uncased/2' to your Kaggle notebook...\n",
      "Attaching 'model.weights.h5' from model 'keras/bert/keras/bert_small_en_uncased/2' to your Kaggle notebook...\n"
     ]
    }
   ],
   "source": [
    "encoder = keras_nlp.models.BertBackbone.from_preset(\"bert_small_en_uncased\", name='bert_layer', trainable=False)"
   ]
  },
  {
   "cell_type": "code",
   "execution_count": 15,
   "id": "070c8bc5",
   "metadata": {
    "execution": {
     "iopub.execute_input": "2024-06-17T13:59:45.387475Z",
     "iopub.status.busy": "2024-06-17T13:59:45.386602Z",
     "iopub.status.idle": "2024-06-17T13:59:45.430439Z",
     "shell.execute_reply": "2024-06-17T13:59:45.429302Z"
    },
    "papermill": {
     "duration": 0.059365,
     "end_time": "2024-06-17T13:59:45.432940",
     "exception": false,
     "start_time": "2024-06-17T13:59:45.373575",
     "status": "completed"
    },
    "tags": []
   },
   "outputs": [
    {
     "data": {
      "text/html": [
       "<pre style=\"white-space:pre;overflow-x:auto;line-height:normal;font-family:Menlo,'DejaVu Sans Mono',consolas,'Courier New',monospace\"><span style=\"font-weight: bold\">Model: \"bert_backbone\"</span>\n",
       "</pre>\n"
      ],
      "text/plain": [
       "\u001b[1mModel: \"bert_backbone\"\u001b[0m\n"
      ]
     },
     "metadata": {},
     "output_type": "display_data"
    },
    {
     "data": {
      "text/html": [
       "<pre style=\"white-space:pre;overflow-x:auto;line-height:normal;font-family:Menlo,'DejaVu Sans Mono',consolas,'Courier New',monospace\">┏━━━━━━━━━━━━━━━━━━━━━┳━━━━━━━━━━━━━━━━━━━┳━━━━━━━━━━━━┳━━━━━━━━━━━━━━━━━━━┓\n",
       "┃<span style=\"font-weight: bold\"> Layer (type)        </span>┃<span style=\"font-weight: bold\"> Output Shape      </span>┃<span style=\"font-weight: bold\">    Param # </span>┃<span style=\"font-weight: bold\"> Connected to      </span>┃\n",
       "┡━━━━━━━━━━━━━━━━━━━━━╇━━━━━━━━━━━━━━━━━━━╇━━━━━━━━━━━━╇━━━━━━━━━━━━━━━━━━━┩\n",
       "│ token_ids           │ (<span style=\"color: #00d7ff; text-decoration-color: #00d7ff\">None</span>, <span style=\"color: #00d7ff; text-decoration-color: #00d7ff\">None</span>)      │          <span style=\"color: #00af00; text-decoration-color: #00af00\">0</span> │ -                 │\n",
       "│ (<span style=\"color: #0087ff; text-decoration-color: #0087ff\">InputLayer</span>)        │                   │            │                   │\n",
       "├─────────────────────┼───────────────────┼────────────┼───────────────────┤\n",
       "│ token_embedding     │ (<span style=\"color: #00d7ff; text-decoration-color: #00d7ff\">None</span>, <span style=\"color: #00d7ff; text-decoration-color: #00d7ff\">None</span>, <span style=\"color: #00af00; text-decoration-color: #00af00\">512</span>) │ <span style=\"color: #00af00; text-decoration-color: #00af00\">15,627,264</span> │ token_ids[<span style=\"color: #00af00; text-decoration-color: #00af00\">0</span>][<span style=\"color: #00af00; text-decoration-color: #00af00\">0</span>]   │\n",
       "│ (<span style=\"color: #0087ff; text-decoration-color: #0087ff\">ReversibleEmbeddi…</span> │                   │            │                   │\n",
       "├─────────────────────┼───────────────────┼────────────┼───────────────────┤\n",
       "│ segment_ids         │ (<span style=\"color: #00d7ff; text-decoration-color: #00d7ff\">None</span>, <span style=\"color: #00d7ff; text-decoration-color: #00d7ff\">None</span>)      │          <span style=\"color: #00af00; text-decoration-color: #00af00\">0</span> │ -                 │\n",
       "│ (<span style=\"color: #0087ff; text-decoration-color: #0087ff\">InputLayer</span>)        │                   │            │                   │\n",
       "├─────────────────────┼───────────────────┼────────────┼───────────────────┤\n",
       "│ position_embedding  │ (<span style=\"color: #00d7ff; text-decoration-color: #00d7ff\">None</span>, <span style=\"color: #00d7ff; text-decoration-color: #00d7ff\">None</span>, <span style=\"color: #00af00; text-decoration-color: #00af00\">512</span>) │    <span style=\"color: #00af00; text-decoration-color: #00af00\">262,144</span> │ token_embedding[<span style=\"color: #00af00; text-decoration-color: #00af00\">…</span> │\n",
       "│ (<span style=\"color: #0087ff; text-decoration-color: #0087ff\">PositionEmbedding</span>) │                   │            │                   │\n",
       "├─────────────────────┼───────────────────┼────────────┼───────────────────┤\n",
       "│ segment_embedding   │ (<span style=\"color: #00d7ff; text-decoration-color: #00d7ff\">None</span>, <span style=\"color: #00d7ff; text-decoration-color: #00d7ff\">None</span>, <span style=\"color: #00af00; text-decoration-color: #00af00\">512</span>) │      <span style=\"color: #00af00; text-decoration-color: #00af00\">1,024</span> │ segment_ids[<span style=\"color: #00af00; text-decoration-color: #00af00\">0</span>][<span style=\"color: #00af00; text-decoration-color: #00af00\">0</span>] │\n",
       "│ (<span style=\"color: #0087ff; text-decoration-color: #0087ff\">Embedding</span>)         │                   │            │                   │\n",
       "├─────────────────────┼───────────────────┼────────────┼───────────────────┤\n",
       "│ embeddings_add      │ (<span style=\"color: #00d7ff; text-decoration-color: #00d7ff\">None</span>, <span style=\"color: #00d7ff; text-decoration-color: #00d7ff\">None</span>, <span style=\"color: #00af00; text-decoration-color: #00af00\">512</span>) │          <span style=\"color: #00af00; text-decoration-color: #00af00\">0</span> │ token_embedding[<span style=\"color: #00af00; text-decoration-color: #00af00\">…</span> │\n",
       "│ (<span style=\"color: #0087ff; text-decoration-color: #0087ff\">Add</span>)               │                   │            │ position_embeddi… │\n",
       "│                     │                   │            │ segment_embeddin… │\n",
       "├─────────────────────┼───────────────────┼────────────┼───────────────────┤\n",
       "│ embeddings_layer_n… │ (<span style=\"color: #00d7ff; text-decoration-color: #00d7ff\">None</span>, <span style=\"color: #00d7ff; text-decoration-color: #00d7ff\">None</span>, <span style=\"color: #00af00; text-decoration-color: #00af00\">512</span>) │      <span style=\"color: #00af00; text-decoration-color: #00af00\">1,024</span> │ embeddings_add[<span style=\"color: #00af00; text-decoration-color: #00af00\">0</span>… │\n",
       "│ (<span style=\"color: #0087ff; text-decoration-color: #0087ff\">LayerNormalizatio…</span> │                   │            │                   │\n",
       "├─────────────────────┼───────────────────┼────────────┼───────────────────┤\n",
       "│ embeddings_dropout  │ (<span style=\"color: #00d7ff; text-decoration-color: #00d7ff\">None</span>, <span style=\"color: #00d7ff; text-decoration-color: #00d7ff\">None</span>, <span style=\"color: #00af00; text-decoration-color: #00af00\">512</span>) │          <span style=\"color: #00af00; text-decoration-color: #00af00\">0</span> │ embeddings_layer… │\n",
       "│ (<span style=\"color: #0087ff; text-decoration-color: #0087ff\">Dropout</span>)           │                   │            │                   │\n",
       "├─────────────────────┼───────────────────┼────────────┼───────────────────┤\n",
       "│ padding_mask        │ (<span style=\"color: #00d7ff; text-decoration-color: #00d7ff\">None</span>, <span style=\"color: #00d7ff; text-decoration-color: #00d7ff\">None</span>)      │          <span style=\"color: #00af00; text-decoration-color: #00af00\">0</span> │ -                 │\n",
       "│ (<span style=\"color: #0087ff; text-decoration-color: #0087ff\">InputLayer</span>)        │                   │            │                   │\n",
       "├─────────────────────┼───────────────────┼────────────┼───────────────────┤\n",
       "│ transformer_layer_0 │ (<span style=\"color: #00d7ff; text-decoration-color: #00d7ff\">None</span>, <span style=\"color: #00d7ff; text-decoration-color: #00d7ff\">None</span>, <span style=\"color: #00af00; text-decoration-color: #00af00\">512</span>) │  <span style=\"color: #00af00; text-decoration-color: #00af00\">3,152,384</span> │ embeddings_dropo… │\n",
       "│ (<span style=\"color: #0087ff; text-decoration-color: #0087ff\">TransformerEncode…</span> │                   │            │ padding_mask[<span style=\"color: #00af00; text-decoration-color: #00af00\">0</span>][<span style=\"color: #00af00; text-decoration-color: #00af00\">…</span> │\n",
       "├─────────────────────┼───────────────────┼────────────┼───────────────────┤\n",
       "│ transformer_layer_1 │ (<span style=\"color: #00d7ff; text-decoration-color: #00d7ff\">None</span>, <span style=\"color: #00d7ff; text-decoration-color: #00d7ff\">None</span>, <span style=\"color: #00af00; text-decoration-color: #00af00\">512</span>) │  <span style=\"color: #00af00; text-decoration-color: #00af00\">3,152,384</span> │ transformer_laye… │\n",
       "│ (<span style=\"color: #0087ff; text-decoration-color: #0087ff\">TransformerEncode…</span> │                   │            │ padding_mask[<span style=\"color: #00af00; text-decoration-color: #00af00\">0</span>][<span style=\"color: #00af00; text-decoration-color: #00af00\">…</span> │\n",
       "├─────────────────────┼───────────────────┼────────────┼───────────────────┤\n",
       "│ transformer_layer_2 │ (<span style=\"color: #00d7ff; text-decoration-color: #00d7ff\">None</span>, <span style=\"color: #00d7ff; text-decoration-color: #00d7ff\">None</span>, <span style=\"color: #00af00; text-decoration-color: #00af00\">512</span>) │  <span style=\"color: #00af00; text-decoration-color: #00af00\">3,152,384</span> │ transformer_laye… │\n",
       "│ (<span style=\"color: #0087ff; text-decoration-color: #0087ff\">TransformerEncode…</span> │                   │            │ padding_mask[<span style=\"color: #00af00; text-decoration-color: #00af00\">0</span>][<span style=\"color: #00af00; text-decoration-color: #00af00\">…</span> │\n",
       "├─────────────────────┼───────────────────┼────────────┼───────────────────┤\n",
       "│ transformer_layer_3 │ (<span style=\"color: #00d7ff; text-decoration-color: #00d7ff\">None</span>, <span style=\"color: #00d7ff; text-decoration-color: #00d7ff\">None</span>, <span style=\"color: #00af00; text-decoration-color: #00af00\">512</span>) │  <span style=\"color: #00af00; text-decoration-color: #00af00\">3,152,384</span> │ transformer_laye… │\n",
       "│ (<span style=\"color: #0087ff; text-decoration-color: #0087ff\">TransformerEncode…</span> │                   │            │ padding_mask[<span style=\"color: #00af00; text-decoration-color: #00af00\">0</span>][<span style=\"color: #00af00; text-decoration-color: #00af00\">…</span> │\n",
       "├─────────────────────┼───────────────────┼────────────┼───────────────────┤\n",
       "│ get_item (<span style=\"color: #0087ff; text-decoration-color: #0087ff\">GetItem</span>)  │ (<span style=\"color: #00d7ff; text-decoration-color: #00d7ff\">None</span>, <span style=\"color: #00af00; text-decoration-color: #00af00\">512</span>)       │          <span style=\"color: #00af00; text-decoration-color: #00af00\">0</span> │ transformer_laye… │\n",
       "├─────────────────────┼───────────────────┼────────────┼───────────────────┤\n",
       "│ pooled_dense        │ (<span style=\"color: #00d7ff; text-decoration-color: #00d7ff\">None</span>, <span style=\"color: #00af00; text-decoration-color: #00af00\">512</span>)       │    <span style=\"color: #00af00; text-decoration-color: #00af00\">262,656</span> │ get_item[<span style=\"color: #00af00; text-decoration-color: #00af00\">0</span>][<span style=\"color: #00af00; text-decoration-color: #00af00\">0</span>]    │\n",
       "│ (<span style=\"color: #0087ff; text-decoration-color: #0087ff\">Dense</span>)             │                   │            │                   │\n",
       "└─────────────────────┴───────────────────┴────────────┴───────────────────┘\n",
       "</pre>\n"
      ],
      "text/plain": [
       "┏━━━━━━━━━━━━━━━━━━━━━┳━━━━━━━━━━━━━━━━━━━┳━━━━━━━━━━━━┳━━━━━━━━━━━━━━━━━━━┓\n",
       "┃\u001b[1m \u001b[0m\u001b[1mLayer (type)       \u001b[0m\u001b[1m \u001b[0m┃\u001b[1m \u001b[0m\u001b[1mOutput Shape     \u001b[0m\u001b[1m \u001b[0m┃\u001b[1m \u001b[0m\u001b[1m   Param #\u001b[0m\u001b[1m \u001b[0m┃\u001b[1m \u001b[0m\u001b[1mConnected to     \u001b[0m\u001b[1m \u001b[0m┃\n",
       "┡━━━━━━━━━━━━━━━━━━━━━╇━━━━━━━━━━━━━━━━━━━╇━━━━━━━━━━━━╇━━━━━━━━━━━━━━━━━━━┩\n",
       "│ token_ids           │ (\u001b[38;5;45mNone\u001b[0m, \u001b[38;5;45mNone\u001b[0m)      │          \u001b[38;5;34m0\u001b[0m │ -                 │\n",
       "│ (\u001b[38;5;33mInputLayer\u001b[0m)        │                   │            │                   │\n",
       "├─────────────────────┼───────────────────┼────────────┼───────────────────┤\n",
       "│ token_embedding     │ (\u001b[38;5;45mNone\u001b[0m, \u001b[38;5;45mNone\u001b[0m, \u001b[38;5;34m512\u001b[0m) │ \u001b[38;5;34m15,627,264\u001b[0m │ token_ids[\u001b[38;5;34m0\u001b[0m][\u001b[38;5;34m0\u001b[0m]   │\n",
       "│ (\u001b[38;5;33mReversibleEmbeddi…\u001b[0m │                   │            │                   │\n",
       "├─────────────────────┼───────────────────┼────────────┼───────────────────┤\n",
       "│ segment_ids         │ (\u001b[38;5;45mNone\u001b[0m, \u001b[38;5;45mNone\u001b[0m)      │          \u001b[38;5;34m0\u001b[0m │ -                 │\n",
       "│ (\u001b[38;5;33mInputLayer\u001b[0m)        │                   │            │                   │\n",
       "├─────────────────────┼───────────────────┼────────────┼───────────────────┤\n",
       "│ position_embedding  │ (\u001b[38;5;45mNone\u001b[0m, \u001b[38;5;45mNone\u001b[0m, \u001b[38;5;34m512\u001b[0m) │    \u001b[38;5;34m262,144\u001b[0m │ token_embedding[\u001b[38;5;34m…\u001b[0m │\n",
       "│ (\u001b[38;5;33mPositionEmbedding\u001b[0m) │                   │            │                   │\n",
       "├─────────────────────┼───────────────────┼────────────┼───────────────────┤\n",
       "│ segment_embedding   │ (\u001b[38;5;45mNone\u001b[0m, \u001b[38;5;45mNone\u001b[0m, \u001b[38;5;34m512\u001b[0m) │      \u001b[38;5;34m1,024\u001b[0m │ segment_ids[\u001b[38;5;34m0\u001b[0m][\u001b[38;5;34m0\u001b[0m] │\n",
       "│ (\u001b[38;5;33mEmbedding\u001b[0m)         │                   │            │                   │\n",
       "├─────────────────────┼───────────────────┼────────────┼───────────────────┤\n",
       "│ embeddings_add      │ (\u001b[38;5;45mNone\u001b[0m, \u001b[38;5;45mNone\u001b[0m, \u001b[38;5;34m512\u001b[0m) │          \u001b[38;5;34m0\u001b[0m │ token_embedding[\u001b[38;5;34m…\u001b[0m │\n",
       "│ (\u001b[38;5;33mAdd\u001b[0m)               │                   │            │ position_embeddi… │\n",
       "│                     │                   │            │ segment_embeddin… │\n",
       "├─────────────────────┼───────────────────┼────────────┼───────────────────┤\n",
       "│ embeddings_layer_n… │ (\u001b[38;5;45mNone\u001b[0m, \u001b[38;5;45mNone\u001b[0m, \u001b[38;5;34m512\u001b[0m) │      \u001b[38;5;34m1,024\u001b[0m │ embeddings_add[\u001b[38;5;34m0\u001b[0m… │\n",
       "│ (\u001b[38;5;33mLayerNormalizatio…\u001b[0m │                   │            │                   │\n",
       "├─────────────────────┼───────────────────┼────────────┼───────────────────┤\n",
       "│ embeddings_dropout  │ (\u001b[38;5;45mNone\u001b[0m, \u001b[38;5;45mNone\u001b[0m, \u001b[38;5;34m512\u001b[0m) │          \u001b[38;5;34m0\u001b[0m │ embeddings_layer… │\n",
       "│ (\u001b[38;5;33mDropout\u001b[0m)           │                   │            │                   │\n",
       "├─────────────────────┼───────────────────┼────────────┼───────────────────┤\n",
       "│ padding_mask        │ (\u001b[38;5;45mNone\u001b[0m, \u001b[38;5;45mNone\u001b[0m)      │          \u001b[38;5;34m0\u001b[0m │ -                 │\n",
       "│ (\u001b[38;5;33mInputLayer\u001b[0m)        │                   │            │                   │\n",
       "├─────────────────────┼───────────────────┼────────────┼───────────────────┤\n",
       "│ transformer_layer_0 │ (\u001b[38;5;45mNone\u001b[0m, \u001b[38;5;45mNone\u001b[0m, \u001b[38;5;34m512\u001b[0m) │  \u001b[38;5;34m3,152,384\u001b[0m │ embeddings_dropo… │\n",
       "│ (\u001b[38;5;33mTransformerEncode…\u001b[0m │                   │            │ padding_mask[\u001b[38;5;34m0\u001b[0m][\u001b[38;5;34m…\u001b[0m │\n",
       "├─────────────────────┼───────────────────┼────────────┼───────────────────┤\n",
       "│ transformer_layer_1 │ (\u001b[38;5;45mNone\u001b[0m, \u001b[38;5;45mNone\u001b[0m, \u001b[38;5;34m512\u001b[0m) │  \u001b[38;5;34m3,152,384\u001b[0m │ transformer_laye… │\n",
       "│ (\u001b[38;5;33mTransformerEncode…\u001b[0m │                   │            │ padding_mask[\u001b[38;5;34m0\u001b[0m][\u001b[38;5;34m…\u001b[0m │\n",
       "├─────────────────────┼───────────────────┼────────────┼───────────────────┤\n",
       "│ transformer_layer_2 │ (\u001b[38;5;45mNone\u001b[0m, \u001b[38;5;45mNone\u001b[0m, \u001b[38;5;34m512\u001b[0m) │  \u001b[38;5;34m3,152,384\u001b[0m │ transformer_laye… │\n",
       "│ (\u001b[38;5;33mTransformerEncode…\u001b[0m │                   │            │ padding_mask[\u001b[38;5;34m0\u001b[0m][\u001b[38;5;34m…\u001b[0m │\n",
       "├─────────────────────┼───────────────────┼────────────┼───────────────────┤\n",
       "│ transformer_layer_3 │ (\u001b[38;5;45mNone\u001b[0m, \u001b[38;5;45mNone\u001b[0m, \u001b[38;5;34m512\u001b[0m) │  \u001b[38;5;34m3,152,384\u001b[0m │ transformer_laye… │\n",
       "│ (\u001b[38;5;33mTransformerEncode…\u001b[0m │                   │            │ padding_mask[\u001b[38;5;34m0\u001b[0m][\u001b[38;5;34m…\u001b[0m │\n",
       "├─────────────────────┼───────────────────┼────────────┼───────────────────┤\n",
       "│ get_item (\u001b[38;5;33mGetItem\u001b[0m)  │ (\u001b[38;5;45mNone\u001b[0m, \u001b[38;5;34m512\u001b[0m)       │          \u001b[38;5;34m0\u001b[0m │ transformer_laye… │\n",
       "├─────────────────────┼───────────────────┼────────────┼───────────────────┤\n",
       "│ pooled_dense        │ (\u001b[38;5;45mNone\u001b[0m, \u001b[38;5;34m512\u001b[0m)       │    \u001b[38;5;34m262,656\u001b[0m │ get_item[\u001b[38;5;34m0\u001b[0m][\u001b[38;5;34m0\u001b[0m]    │\n",
       "│ (\u001b[38;5;33mDense\u001b[0m)             │                   │            │                   │\n",
       "└─────────────────────┴───────────────────┴────────────┴───────────────────┘\n"
      ]
     },
     "metadata": {},
     "output_type": "display_data"
    },
    {
     "data": {
      "text/html": [
       "<pre style=\"white-space:pre;overflow-x:auto;line-height:normal;font-family:Menlo,'DejaVu Sans Mono',consolas,'Courier New',monospace\"><span style=\"font-weight: bold\"> Total params: </span><span style=\"color: #00af00; text-decoration-color: #00af00\">28,763,648</span> (109.72 MB)\n",
       "</pre>\n"
      ],
      "text/plain": [
       "\u001b[1m Total params: \u001b[0m\u001b[38;5;34m28,763,648\u001b[0m (109.72 MB)\n"
      ]
     },
     "metadata": {},
     "output_type": "display_data"
    },
    {
     "data": {
      "text/html": [
       "<pre style=\"white-space:pre;overflow-x:auto;line-height:normal;font-family:Menlo,'DejaVu Sans Mono',consolas,'Courier New',monospace\"><span style=\"font-weight: bold\"> Trainable params: </span><span style=\"color: #00af00; text-decoration-color: #00af00\">28,763,648</span> (109.72 MB)\n",
       "</pre>\n"
      ],
      "text/plain": [
       "\u001b[1m Trainable params: \u001b[0m\u001b[38;5;34m28,763,648\u001b[0m (109.72 MB)\n"
      ]
     },
     "metadata": {},
     "output_type": "display_data"
    },
    {
     "data": {
      "text/html": [
       "<pre style=\"white-space:pre;overflow-x:auto;line-height:normal;font-family:Menlo,'DejaVu Sans Mono',consolas,'Courier New',monospace\"><span style=\"font-weight: bold\"> Non-trainable params: </span><span style=\"color: #00af00; text-decoration-color: #00af00\">0</span> (0.00 B)\n",
       "</pre>\n"
      ],
      "text/plain": [
       "\u001b[1m Non-trainable params: \u001b[0m\u001b[38;5;34m0\u001b[0m (0.00 B)\n"
      ]
     },
     "metadata": {},
     "output_type": "display_data"
    }
   ],
   "source": [
    "encoder.summary()"
   ]
  },
  {
   "cell_type": "code",
   "execution_count": null,
   "id": "2670f0ce",
   "metadata": {
    "papermill": {
     "duration": 0.01277,
     "end_time": "2024-06-17T13:59:45.459740",
     "exception": false,
     "start_time": "2024-06-17T13:59:45.446970",
     "status": "completed"
    },
    "tags": []
   },
   "outputs": [],
   "source": []
  },
  {
   "cell_type": "code",
   "execution_count": 16,
   "id": "774fc6dc",
   "metadata": {
    "execution": {
     "iopub.execute_input": "2024-06-17T13:59:45.487432Z",
     "iopub.status.busy": "2024-06-17T13:59:45.486679Z",
     "iopub.status.idle": "2024-06-17T13:59:46.009454Z",
     "shell.execute_reply": "2024-06-17T13:59:46.008026Z"
    },
    "papermill": {
     "duration": 0.539769,
     "end_time": "2024-06-17T13:59:46.012036",
     "exception": false,
     "start_time": "2024-06-17T13:59:45.472267",
     "status": "completed"
    },
    "tags": []
   },
   "outputs": [
    {
     "name": "stdout",
     "output_type": "stream",
     "text": [
      "(<tf.Tensor: shape=(64, 512), dtype=int32, numpy=\n",
      "array([[  101,  9530, 20528, ...,     0,     0,     0],\n",
      "       [  101, 25835,  2110, ...,     0,     0,     0],\n",
      "       [  101, 14972, 24655, ...,     0,     0,     0],\n",
      "       ...,\n",
      "       [  101, 15544, 17545, ...,     0,     0,     0],\n",
      "       [  101, 15984,  2232, ...,     0,     0,     0],\n",
      "       [  101, 29494,  8773, ...,     0,     0,     0]], dtype=int32)>, <tf.Tensor: shape=(64, 512), dtype=int32, numpy=\n",
      "array([[0, 0, 0, ..., 0, 0, 0],\n",
      "       [0, 0, 0, ..., 0, 0, 0],\n",
      "       [0, 0, 0, ..., 0, 0, 0],\n",
      "       ...,\n",
      "       [0, 0, 0, ..., 0, 0, 0],\n",
      "       [0, 0, 0, ..., 0, 0, 0],\n",
      "       [0, 0, 0, ..., 0, 0, 0]], dtype=int32)>, <tf.Tensor: shape=(64, 512), dtype=bool, numpy=\n",
      "array([[ True,  True,  True, ..., False, False, False],\n",
      "       [ True,  True,  True, ..., False, False, False],\n",
      "       [ True,  True,  True, ..., False, False, False],\n",
      "       ...,\n",
      "       [ True,  True,  True, ..., False, False, False],\n",
      "       [ True,  True,  True, ..., False, False, False],\n",
      "       [ True,  True,  True, ..., False, False, False]])>)\n"
     ]
    }
   ],
   "source": [
    "for i, j in train_dataset.take(1):\n",
    "    print(i)"
   ]
  },
  {
   "cell_type": "code",
   "execution_count": 17,
   "id": "83b75eb7",
   "metadata": {
    "execution": {
     "iopub.execute_input": "2024-06-17T13:59:46.039595Z",
     "iopub.status.busy": "2024-06-17T13:59:46.038779Z",
     "iopub.status.idle": "2024-06-17T13:59:46.047887Z",
     "shell.execute_reply": "2024-06-17T13:59:46.046682Z"
    },
    "papermill": {
     "duration": 0.025638,
     "end_time": "2024-06-17T13:59:46.050202",
     "exception": false,
     "start_time": "2024-06-17T13:59:46.024564",
     "status": "completed"
    },
    "tags": []
   },
   "outputs": [],
   "source": [
    "\n",
    "def temp_model():\n",
    "    token_ids = tf.keras.layers.Input(shape=(512, ), dtype=tf.int32, name='token_ids')\n",
    "    segment_ids = tf.keras.layers.Input(shape=(512, ), dtype=tf.int32, name='segment_ids')\n",
    "    padding_mask= tf.keras.layers.Input(shape=(512, ), dtype=tf.bool, name='padding_mask')\n",
    "    \n",
    "    \n",
    "    input1 = {\n",
    "        'segment_ids': segment_ids, \n",
    "        'token_ids': token_ids, \n",
    "        'padding_mask': padding_mask\n",
    "    }\n",
    "    \n",
    "    encoder = keras_nlp.models.BertBackbone.from_preset(\"bert_small_en_uncased\", name='bert_layer')\n",
    "    outputs = encoder(input1)\n",
    "    net = tf.keras.layers.Dropout(0.1)(outputs['pooled_output'])\n",
    "    output = tf.keras.layers.Dense(6, activation=tf.sigmoid, name='sing_dense_layer')(net)\n",
    "    return tf.keras.Model((token_ids, segment_ids, padding_mask),  output)"
   ]
  },
  {
   "cell_type": "code",
   "execution_count": 18,
   "id": "05151cdc",
   "metadata": {
    "execution": {
     "iopub.execute_input": "2024-06-17T13:59:46.078049Z",
     "iopub.status.busy": "2024-06-17T13:59:46.077654Z",
     "iopub.status.idle": "2024-06-17T13:59:54.321884Z",
     "shell.execute_reply": "2024-06-17T13:59:54.320815Z"
    },
    "papermill": {
     "duration": 8.261547,
     "end_time": "2024-06-17T13:59:54.324893",
     "exception": false,
     "start_time": "2024-06-17T13:59:46.063346",
     "status": "completed"
    },
    "tags": []
   },
   "outputs": [
    {
     "name": "stderr",
     "output_type": "stream",
     "text": [
      "Attaching 'metadata.json' from model 'keras/bert/keras/bert_small_en_uncased/2' to your Kaggle notebook...\n",
      "Attaching 'metadata.json' from model 'keras/bert/keras/bert_small_en_uncased/2' to your Kaggle notebook...\n",
      "Attaching 'config.json' from model 'keras/bert/keras/bert_small_en_uncased/2' to your Kaggle notebook...\n",
      "Attaching 'config.json' from model 'keras/bert/keras/bert_small_en_uncased/2' to your Kaggle notebook...\n",
      "Attaching 'model.weights.h5' from model 'keras/bert/keras/bert_small_en_uncased/2' to your Kaggle notebook...\n"
     ]
    }
   ],
   "source": [
    "model = temp_model()"
   ]
  },
  {
   "cell_type": "code",
   "execution_count": 19,
   "id": "038624c6",
   "metadata": {
    "execution": {
     "iopub.execute_input": "2024-06-17T13:59:54.359440Z",
     "iopub.status.busy": "2024-06-17T13:59:54.358574Z",
     "iopub.status.idle": "2024-06-17T13:59:54.400487Z",
     "shell.execute_reply": "2024-06-17T13:59:54.398784Z"
    },
    "papermill": {
     "duration": 0.065024,
     "end_time": "2024-06-17T13:59:54.405505",
     "exception": false,
     "start_time": "2024-06-17T13:59:54.340481",
     "status": "completed"
    },
    "tags": []
   },
   "outputs": [
    {
     "data": {
      "text/html": [
       "<pre style=\"white-space:pre;overflow-x:auto;line-height:normal;font-family:Menlo,'DejaVu Sans Mono',consolas,'Courier New',monospace\"><span style=\"font-weight: bold\">Model: \"functional_1\"</span>\n",
       "</pre>\n"
      ],
      "text/plain": [
       "\u001b[1mModel: \"functional_1\"\u001b[0m\n"
      ]
     },
     "metadata": {},
     "output_type": "display_data"
    },
    {
     "data": {
      "text/html": [
       "<pre style=\"white-space:pre;overflow-x:auto;line-height:normal;font-family:Menlo,'DejaVu Sans Mono',consolas,'Courier New',monospace\">┏━━━━━━━━━━━━━━━━━━━━━┳━━━━━━━━━━━━━━━━━━━┳━━━━━━━━━━━━┳━━━━━━━━━━━━━━━━━━━┓\n",
       "┃<span style=\"font-weight: bold\"> Layer (type)        </span>┃<span style=\"font-weight: bold\"> Output Shape      </span>┃<span style=\"font-weight: bold\">    Param # </span>┃<span style=\"font-weight: bold\"> Connected to      </span>┃\n",
       "┡━━━━━━━━━━━━━━━━━━━━━╇━━━━━━━━━━━━━━━━━━━╇━━━━━━━━━━━━╇━━━━━━━━━━━━━━━━━━━┩\n",
       "│ padding_mask        │ (<span style=\"color: #00d7ff; text-decoration-color: #00d7ff\">None</span>, <span style=\"color: #00af00; text-decoration-color: #00af00\">512</span>)       │          <span style=\"color: #00af00; text-decoration-color: #00af00\">0</span> │ -                 │\n",
       "│ (<span style=\"color: #0087ff; text-decoration-color: #0087ff\">InputLayer</span>)        │                   │            │                   │\n",
       "├─────────────────────┼───────────────────┼────────────┼───────────────────┤\n",
       "│ segment_ids         │ (<span style=\"color: #00d7ff; text-decoration-color: #00d7ff\">None</span>, <span style=\"color: #00af00; text-decoration-color: #00af00\">512</span>)       │          <span style=\"color: #00af00; text-decoration-color: #00af00\">0</span> │ -                 │\n",
       "│ (<span style=\"color: #0087ff; text-decoration-color: #0087ff\">InputLayer</span>)        │                   │            │                   │\n",
       "├─────────────────────┼───────────────────┼────────────┼───────────────────┤\n",
       "│ token_ids           │ (<span style=\"color: #00d7ff; text-decoration-color: #00d7ff\">None</span>, <span style=\"color: #00af00; text-decoration-color: #00af00\">512</span>)       │          <span style=\"color: #00af00; text-decoration-color: #00af00\">0</span> │ -                 │\n",
       "│ (<span style=\"color: #0087ff; text-decoration-color: #0087ff\">InputLayer</span>)        │                   │            │                   │\n",
       "├─────────────────────┼───────────────────┼────────────┼───────────────────┤\n",
       "│ bert_backbone       │ [(<span style=\"color: #00d7ff; text-decoration-color: #00d7ff\">None</span>, <span style=\"color: #00af00; text-decoration-color: #00af00\">512</span>),     │ <span style=\"color: #00af00; text-decoration-color: #00af00\">28,763,648</span> │ padding_mask[<span style=\"color: #00af00; text-decoration-color: #00af00\">0</span>][<span style=\"color: #00af00; text-decoration-color: #00af00\">…</span> │\n",
       "│ (<span style=\"color: #0087ff; text-decoration-color: #0087ff\">BertBackbone</span>)      │ (<span style=\"color: #00d7ff; text-decoration-color: #00d7ff\">None</span>, <span style=\"color: #00af00; text-decoration-color: #00af00\">512</span>, <span style=\"color: #00af00; text-decoration-color: #00af00\">512</span>)] │            │ segment_ids[<span style=\"color: #00af00; text-decoration-color: #00af00\">0</span>][<span style=\"color: #00af00; text-decoration-color: #00af00\">0</span>… │\n",
       "│                     │                   │            │ token_ids[<span style=\"color: #00af00; text-decoration-color: #00af00\">0</span>][<span style=\"color: #00af00; text-decoration-color: #00af00\">0</span>]   │\n",
       "├─────────────────────┼───────────────────┼────────────┼───────────────────┤\n",
       "│ dropout_8 (<span style=\"color: #0087ff; text-decoration-color: #0087ff\">Dropout</span>) │ (<span style=\"color: #00d7ff; text-decoration-color: #00d7ff\">None</span>, <span style=\"color: #00af00; text-decoration-color: #00af00\">512</span>)       │          <span style=\"color: #00af00; text-decoration-color: #00af00\">0</span> │ bert_backbone[<span style=\"color: #00af00; text-decoration-color: #00af00\">0</span>]… │\n",
       "├─────────────────────┼───────────────────┼────────────┼───────────────────┤\n",
       "│ sing_dense_layer    │ (<span style=\"color: #00d7ff; text-decoration-color: #00d7ff\">None</span>, <span style=\"color: #00af00; text-decoration-color: #00af00\">6</span>)         │      <span style=\"color: #00af00; text-decoration-color: #00af00\">3,078</span> │ dropout_8[<span style=\"color: #00af00; text-decoration-color: #00af00\">0</span>][<span style=\"color: #00af00; text-decoration-color: #00af00\">0</span>]   │\n",
       "│ (<span style=\"color: #0087ff; text-decoration-color: #0087ff\">Dense</span>)             │                   │            │                   │\n",
       "└─────────────────────┴───────────────────┴────────────┴───────────────────┘\n",
       "</pre>\n"
      ],
      "text/plain": [
       "┏━━━━━━━━━━━━━━━━━━━━━┳━━━━━━━━━━━━━━━━━━━┳━━━━━━━━━━━━┳━━━━━━━━━━━━━━━━━━━┓\n",
       "┃\u001b[1m \u001b[0m\u001b[1mLayer (type)       \u001b[0m\u001b[1m \u001b[0m┃\u001b[1m \u001b[0m\u001b[1mOutput Shape     \u001b[0m\u001b[1m \u001b[0m┃\u001b[1m \u001b[0m\u001b[1m   Param #\u001b[0m\u001b[1m \u001b[0m┃\u001b[1m \u001b[0m\u001b[1mConnected to     \u001b[0m\u001b[1m \u001b[0m┃\n",
       "┡━━━━━━━━━━━━━━━━━━━━━╇━━━━━━━━━━━━━━━━━━━╇━━━━━━━━━━━━╇━━━━━━━━━━━━━━━━━━━┩\n",
       "│ padding_mask        │ (\u001b[38;5;45mNone\u001b[0m, \u001b[38;5;34m512\u001b[0m)       │          \u001b[38;5;34m0\u001b[0m │ -                 │\n",
       "│ (\u001b[38;5;33mInputLayer\u001b[0m)        │                   │            │                   │\n",
       "├─────────────────────┼───────────────────┼────────────┼───────────────────┤\n",
       "│ segment_ids         │ (\u001b[38;5;45mNone\u001b[0m, \u001b[38;5;34m512\u001b[0m)       │          \u001b[38;5;34m0\u001b[0m │ -                 │\n",
       "│ (\u001b[38;5;33mInputLayer\u001b[0m)        │                   │            │                   │\n",
       "├─────────────────────┼───────────────────┼────────────┼───────────────────┤\n",
       "│ token_ids           │ (\u001b[38;5;45mNone\u001b[0m, \u001b[38;5;34m512\u001b[0m)       │          \u001b[38;5;34m0\u001b[0m │ -                 │\n",
       "│ (\u001b[38;5;33mInputLayer\u001b[0m)        │                   │            │                   │\n",
       "├─────────────────────┼───────────────────┼────────────┼───────────────────┤\n",
       "│ bert_backbone       │ [(\u001b[38;5;45mNone\u001b[0m, \u001b[38;5;34m512\u001b[0m),     │ \u001b[38;5;34m28,763,648\u001b[0m │ padding_mask[\u001b[38;5;34m0\u001b[0m][\u001b[38;5;34m…\u001b[0m │\n",
       "│ (\u001b[38;5;33mBertBackbone\u001b[0m)      │ (\u001b[38;5;45mNone\u001b[0m, \u001b[38;5;34m512\u001b[0m, \u001b[38;5;34m512\u001b[0m)] │            │ segment_ids[\u001b[38;5;34m0\u001b[0m][\u001b[38;5;34m0\u001b[0m… │\n",
       "│                     │                   │            │ token_ids[\u001b[38;5;34m0\u001b[0m][\u001b[38;5;34m0\u001b[0m]   │\n",
       "├─────────────────────┼───────────────────┼────────────┼───────────────────┤\n",
       "│ dropout_8 (\u001b[38;5;33mDropout\u001b[0m) │ (\u001b[38;5;45mNone\u001b[0m, \u001b[38;5;34m512\u001b[0m)       │          \u001b[38;5;34m0\u001b[0m │ bert_backbone[\u001b[38;5;34m0\u001b[0m]… │\n",
       "├─────────────────────┼───────────────────┼────────────┼───────────────────┤\n",
       "│ sing_dense_layer    │ (\u001b[38;5;45mNone\u001b[0m, \u001b[38;5;34m6\u001b[0m)         │      \u001b[38;5;34m3,078\u001b[0m │ dropout_8[\u001b[38;5;34m0\u001b[0m][\u001b[38;5;34m0\u001b[0m]   │\n",
       "│ (\u001b[38;5;33mDense\u001b[0m)             │                   │            │                   │\n",
       "└─────────────────────┴───────────────────┴────────────┴───────────────────┘\n"
      ]
     },
     "metadata": {},
     "output_type": "display_data"
    },
    {
     "data": {
      "text/html": [
       "<pre style=\"white-space:pre;overflow-x:auto;line-height:normal;font-family:Menlo,'DejaVu Sans Mono',consolas,'Courier New',monospace\"><span style=\"font-weight: bold\"> Total params: </span><span style=\"color: #00af00; text-decoration-color: #00af00\">28,766,726</span> (109.74 MB)\n",
       "</pre>\n"
      ],
      "text/plain": [
       "\u001b[1m Total params: \u001b[0m\u001b[38;5;34m28,766,726\u001b[0m (109.74 MB)\n"
      ]
     },
     "metadata": {},
     "output_type": "display_data"
    },
    {
     "data": {
      "text/html": [
       "<pre style=\"white-space:pre;overflow-x:auto;line-height:normal;font-family:Menlo,'DejaVu Sans Mono',consolas,'Courier New',monospace\"><span style=\"font-weight: bold\"> Trainable params: </span><span style=\"color: #00af00; text-decoration-color: #00af00\">28,766,726</span> (109.74 MB)\n",
       "</pre>\n"
      ],
      "text/plain": [
       "\u001b[1m Trainable params: \u001b[0m\u001b[38;5;34m28,766,726\u001b[0m (109.74 MB)\n"
      ]
     },
     "metadata": {},
     "output_type": "display_data"
    },
    {
     "data": {
      "text/html": [
       "<pre style=\"white-space:pre;overflow-x:auto;line-height:normal;font-family:Menlo,'DejaVu Sans Mono',consolas,'Courier New',monospace\"><span style=\"font-weight: bold\"> Non-trainable params: </span><span style=\"color: #00af00; text-decoration-color: #00af00\">0</span> (0.00 B)\n",
       "</pre>\n"
      ],
      "text/plain": [
       "\u001b[1m Non-trainable params: \u001b[0m\u001b[38;5;34m0\u001b[0m (0.00 B)\n"
      ]
     },
     "metadata": {},
     "output_type": "display_data"
    }
   ],
   "source": [
    "model.summary()"
   ]
  },
  {
   "cell_type": "code",
   "execution_count": 20,
   "id": "708038d8",
   "metadata": {
    "execution": {
     "iopub.execute_input": "2024-06-17T13:59:54.440987Z",
     "iopub.status.busy": "2024-06-17T13:59:54.440414Z",
     "iopub.status.idle": "2024-06-17T13:59:54.472954Z",
     "shell.execute_reply": "2024-06-17T13:59:54.470585Z"
    },
    "papermill": {
     "duration": 0.050817,
     "end_time": "2024-06-17T13:59:54.475556",
     "exception": false,
     "start_time": "2024-06-17T13:59:54.424739",
     "status": "completed"
    },
    "tags": []
   },
   "outputs": [
    {
     "name": "stderr",
     "output_type": "stream",
     "text": [
      "/opt/conda/lib/python3.10/site-packages/keras/src/optimizers/base_optimizer.py:33: UserWarning: Argument `decay` is no longer supported and will be ignored.\n",
      "  warnings.warn(\n"
     ]
    }
   ],
   "source": [
    "#loss = tf.keras.losses.(from_logits=True)\n",
    "metrics = tf.metrics.BinaryAccuracy()\n",
    "optimizer = tf.keras.optimizers.Adam(\n",
    "    learning_rate=5e-05, # HF recommendation\n",
    "    epsilon=1e-08,\n",
    "    decay=0.01,\n",
    "    \n",
    "    clipnorm=1.0\n",
    ")\n",
    "\n",
    "pot = tf.keras.optimizers.SGD()"
   ]
  },
  {
   "cell_type": "code",
   "execution_count": 21,
   "id": "7d883597",
   "metadata": {
    "execution": {
     "iopub.execute_input": "2024-06-17T13:59:54.511221Z",
     "iopub.status.busy": "2024-06-17T13:59:54.510779Z",
     "iopub.status.idle": "2024-06-17T13:59:54.526703Z",
     "shell.execute_reply": "2024-06-17T13:59:54.525445Z"
    },
    "papermill": {
     "duration": 0.038278,
     "end_time": "2024-06-17T13:59:54.530300",
     "exception": false,
     "start_time": "2024-06-17T13:59:54.492022",
     "status": "completed"
    },
    "tags": []
   },
   "outputs": [],
   "source": [
    "#model.compile(optimizer=optimizer, loss=loss, metrics=[metrics])\n",
    "from keras.optimizers import Adam\n",
    "model.compile(optimizer=optimizer,loss=tf.keras.losses.BinaryCrossentropy(),metrics=[tf.keras.metrics.BinaryAccuracy()])"
   ]
  },
  {
   "cell_type": "code",
   "execution_count": 22,
   "id": "b4562a85",
   "metadata": {
    "execution": {
     "iopub.execute_input": "2024-06-17T13:59:54.573389Z",
     "iopub.status.busy": "2024-06-17T13:59:54.572944Z",
     "iopub.status.idle": "2024-06-17T14:10:40.591411Z",
     "shell.execute_reply": "2024-06-17T14:10:40.590151Z"
    },
    "papermill": {
     "duration": 646.042986,
     "end_time": "2024-06-17T14:10:40.593897",
     "exception": false,
     "start_time": "2024-06-17T13:59:54.550911",
     "status": "completed"
    },
    "tags": []
   },
   "outputs": [
    {
     "name": "stdout",
     "output_type": "stream",
     "text": [
      "Epoch 1/2\n"
     ]
    },
    {
     "name": "stderr",
     "output_type": "stream",
     "text": [
      "WARNING: All log messages before absl::InitializeLog() is called are written to STDERR\n",
      "I0000 00:00:1718632859.402043      73 device_compiler.h:186] Compiled cluster using XLA!  This line is logged at most once for the lifetime of the process.\n",
      "W0000 00:00:1718632859.456783      73 graph_launch.cc:671] Fallback to op-by-op mode because memset node breaks graph update\n"
     ]
    },
    {
     "name": "stdout",
     "output_type": "stream",
     "text": [
      "\u001b[1m263/263\u001b[0m \u001b[32m━━━━━━━━━━━━━━━━━━━━\u001b[0m\u001b[37m\u001b[0m \u001b[1m0s\u001b[0m 1s/step - binary_accuracy: 0.8293 - loss: 0.3624   "
     ]
    },
    {
     "name": "stderr",
     "output_type": "stream",
     "text": [
      "W0000 00:00:1718633141.037066      73 graph_launch.cc:671] Fallback to op-by-op mode because memset node breaks graph update\n"
     ]
    },
    {
     "name": "stdout",
     "output_type": "stream",
     "text": [
      "\u001b[1m263/263\u001b[0m \u001b[32m━━━━━━━━━━━━━━━━━━━━\u001b[0m\u001b[37m\u001b[0m \u001b[1m373s\u001b[0m 1s/step - binary_accuracy: 0.8295 - loss: 0.3621 - val_binary_accuracy: 0.8997 - val_loss: 0.2412\n",
      "Epoch 2/2\n",
      "\u001b[1m263/263\u001b[0m \u001b[32m━━━━━━━━━━━━━━━━━━━━\u001b[0m\u001b[37m\u001b[0m \u001b[1m273s\u001b[0m 1s/step - binary_accuracy: 0.9020 - loss: 0.2354 - val_binary_accuracy: 0.9002 - val_loss: 0.2400\n"
     ]
    }
   ],
   "source": [
    "history = model.fit(x=train_dataset, epochs=2, validation_data=valid_dataset, verbose=1)"
   ]
  },
  {
   "cell_type": "code",
   "execution_count": 23,
   "id": "3d4e37f6",
   "metadata": {
    "execution": {
     "iopub.execute_input": "2024-06-17T14:10:40.707381Z",
     "iopub.status.busy": "2024-06-17T14:10:40.706357Z",
     "iopub.status.idle": "2024-06-17T14:10:40.711242Z",
     "shell.execute_reply": "2024-06-17T14:10:40.710365Z"
    },
    "papermill": {
     "duration": 0.065214,
     "end_time": "2024-06-17T14:10:40.713336",
     "exception": false,
     "start_time": "2024-06-17T14:10:40.648122",
     "status": "completed"
    },
    "tags": []
   },
   "outputs": [],
   "source": [
    "import matplotlib.pyplot as plt"
   ]
  },
  {
   "cell_type": "code",
   "execution_count": 24,
   "id": "8440379d",
   "metadata": {
    "execution": {
     "iopub.execute_input": "2024-06-17T14:10:40.827058Z",
     "iopub.status.busy": "2024-06-17T14:10:40.826530Z",
     "iopub.status.idle": "2024-06-17T14:10:40.834471Z",
     "shell.execute_reply": "2024-06-17T14:10:40.833453Z"
    },
    "papermill": {
     "duration": 0.073406,
     "end_time": "2024-06-17T14:10:40.842243",
     "exception": false,
     "start_time": "2024-06-17T14:10:40.768837",
     "status": "completed"
    },
    "tags": []
   },
   "outputs": [
    {
     "data": {
      "text/plain": [
       "{'binary_accuracy': [0.871123194694519, 0.9054558277130127],\n",
       " 'loss': [0.2961733937263489, 0.2269333302974701],\n",
       " 'val_binary_accuracy': [0.8997218012809753, 0.900198757648468],\n",
       " 'val_loss': [0.24115058779716492, 0.23998723924160004]}"
      ]
     },
     "execution_count": 24,
     "metadata": {},
     "output_type": "execute_result"
    }
   ],
   "source": [
    "history.history"
   ]
  },
  {
   "cell_type": "code",
   "execution_count": null,
   "id": "52192aaa",
   "metadata": {
    "papermill": {
     "duration": 0.054124,
     "end_time": "2024-06-17T14:10:40.961575",
     "exception": false,
     "start_time": "2024-06-17T14:10:40.907451",
     "status": "completed"
    },
    "tags": []
   },
   "outputs": [],
   "source": []
  },
  {
   "cell_type": "code",
   "execution_count": null,
   "id": "67764e11",
   "metadata": {
    "papermill": {
     "duration": 0.054378,
     "end_time": "2024-06-17T14:10:41.070641",
     "exception": false,
     "start_time": "2024-06-17T14:10:41.016263",
     "status": "completed"
    },
    "tags": []
   },
   "outputs": [],
   "source": []
  },
  {
   "cell_type": "code",
   "execution_count": null,
   "id": "e8dc7181",
   "metadata": {
    "papermill": {
     "duration": 0.055765,
     "end_time": "2024-06-17T14:10:41.182242",
     "exception": false,
     "start_time": "2024-06-17T14:10:41.126477",
     "status": "completed"
    },
    "tags": []
   },
   "outputs": [],
   "source": []
  },
  {
   "cell_type": "code",
   "execution_count": null,
   "id": "d290b75d",
   "metadata": {
    "papermill": {
     "duration": 0.053857,
     "end_time": "2024-06-17T14:10:41.293511",
     "exception": false,
     "start_time": "2024-06-17T14:10:41.239654",
     "status": "completed"
    },
    "tags": []
   },
   "outputs": [],
   "source": []
  },
  {
   "cell_type": "code",
   "execution_count": null,
   "id": "112e6a8b",
   "metadata": {
    "papermill": {
     "duration": 0.053189,
     "end_time": "2024-06-17T14:10:41.399934",
     "exception": false,
     "start_time": "2024-06-17T14:10:41.346745",
     "status": "completed"
    },
    "tags": []
   },
   "outputs": [],
   "source": []
  },
  {
   "cell_type": "code",
   "execution_count": null,
   "id": "302abfc1",
   "metadata": {
    "papermill": {
     "duration": 0.052698,
     "end_time": "2024-06-17T14:10:41.505666",
     "exception": false,
     "start_time": "2024-06-17T14:10:41.452968",
     "status": "completed"
    },
    "tags": []
   },
   "outputs": [],
   "source": []
  }
 ],
 "metadata": {
  "kaggle": {
   "accelerator": "nvidiaTeslaT4",
   "dataSources": [
    {
     "datasetId": 1123189,
     "sourceId": 1885658,
     "sourceType": "datasetVersion"
    },
    {
     "modelInstanceId": 4676,
     "sourceId": 6055,
     "sourceType": "modelInstanceVersion"
    }
   ],
   "dockerImageVersionId": 30732,
   "isGpuEnabled": true,
   "isInternetEnabled": false,
   "language": "python",
   "sourceType": "notebook"
  },
  "kernelspec": {
   "display_name": "Python 3",
   "language": "python",
   "name": "python3"
  },
  "language_info": {
   "codemirror_mode": {
    "name": "ipython",
    "version": 3
   },
   "file_extension": ".py",
   "mimetype": "text/x-python",
   "name": "python",
   "nbconvert_exporter": "python",
   "pygments_lexer": "ipython3",
   "version": "3.10.13"
  },
  "papermill": {
   "default_parameters": {},
   "duration": 700.521392,
   "end_time": "2024-06-17T14:10:44.207503",
   "environment_variables": {},
   "exception": null,
   "input_path": "__notebook__.ipynb",
   "output_path": "__notebook__.ipynb",
   "parameters": {},
   "start_time": "2024-06-17T13:59:03.686111",
   "version": "2.5.0"
  }
 },
 "nbformat": 4,
 "nbformat_minor": 5
}
